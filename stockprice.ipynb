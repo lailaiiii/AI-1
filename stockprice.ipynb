{
  "nbformat": 4,
  "nbformat_minor": 0,
  "metadata": {
    "colab": {
      "name": "stockprice.ipynb",
      "provenance": [],
      "include_colab_link": true
    },
    "kernelspec": {
      "name": "python3",
      "display_name": "Python 3"
    }
  },
  "cells": [
    {
      "cell_type": "markdown",
      "metadata": {
        "id": "view-in-github",
        "colab_type": "text"
      },
      "source": [
        "<a href=\"https://colab.research.google.com/github/tewei0328/AI/blob/master/stockprice.ipynb\" target=\"_parent\"><img src=\"https://colab.research.google.com/assets/colab-badge.svg\" alt=\"Open In Colab\"/></a>"
      ]
    },
    {
      "cell_type": "code",
      "metadata": {
        "id": "fFDmBWrpVSaN",
        "colab_type": "code",
        "colab": {}
      },
      "source": [
        "import pandas as pd"
      ],
      "execution_count": 0,
      "outputs": []
    },
    {
      "cell_type": "code",
      "metadata": {
        "id": "ut_onp5VWjXS",
        "colab_type": "code",
        "colab": {}
      },
      "source": [
        "df=pd.read_csv('TX11_day.csv')"
      ],
      "execution_count": 0,
      "outputs": []
    },
    {
      "cell_type": "code",
      "metadata": {
        "id": "A72AzHvRWrtm",
        "colab_type": "code",
        "colab": {
          "base_uri": "https://localhost:8080/",
          "height": 204
        },
        "outputId": "6ba20d0d-7955-4ef4-b98d-4f443a055961"
      },
      "source": [
        "df.head()"
      ],
      "execution_count": 8,
      "outputs": [
        {
          "output_type": "execute_result",
          "data": {
            "text/html": [
              "<div>\n",
              "<style scoped>\n",
              "    .dataframe tbody tr th:only-of-type {\n",
              "        vertical-align: middle;\n",
              "    }\n",
              "\n",
              "    .dataframe tbody tr th {\n",
              "        vertical-align: top;\n",
              "    }\n",
              "\n",
              "    .dataframe thead th {\n",
              "        text-align: right;\n",
              "    }\n",
              "</style>\n",
              "<table border=\"1\" class=\"dataframe\">\n",
              "  <thead>\n",
              "    <tr style=\"text-align: right;\">\n",
              "      <th></th>\n",
              "      <th>date</th>\n",
              "      <th>open</th>\n",
              "      <th>high</th>\n",
              "      <th>low</th>\n",
              "      <th>close</th>\n",
              "    </tr>\n",
              "  </thead>\n",
              "  <tbody>\n",
              "    <tr>\n",
              "      <th>0</th>\n",
              "      <td>2019/10/18</td>\n",
              "      <td>11166</td>\n",
              "      <td>11245</td>\n",
              "      <td>11132</td>\n",
              "      <td>11149</td>\n",
              "    </tr>\n",
              "    <tr>\n",
              "      <th>1</th>\n",
              "      <td>2019/10/17</td>\n",
              "      <td>11131</td>\n",
              "      <td>11166</td>\n",
              "      <td>11098</td>\n",
              "      <td>11158</td>\n",
              "    </tr>\n",
              "    <tr>\n",
              "      <th>2</th>\n",
              "      <td>2019/10/16</td>\n",
              "      <td>11097</td>\n",
              "      <td>11147</td>\n",
              "      <td>11088</td>\n",
              "      <td>11131</td>\n",
              "    </tr>\n",
              "    <tr>\n",
              "      <th>3</th>\n",
              "      <td>2019/10/15</td>\n",
              "      <td>11053</td>\n",
              "      <td>11098</td>\n",
              "      <td>11030</td>\n",
              "      <td>11087</td>\n",
              "    </tr>\n",
              "    <tr>\n",
              "      <th>4</th>\n",
              "      <td>2019/10/14</td>\n",
              "      <td>10862</td>\n",
              "      <td>11068</td>\n",
              "      <td>10758</td>\n",
              "      <td>11056</td>\n",
              "    </tr>\n",
              "  </tbody>\n",
              "</table>\n",
              "</div>"
            ],
            "text/plain": [
              "         date   open   high    low  close\n",
              "0  2019/10/18  11166  11245  11132  11149\n",
              "1  2019/10/17  11131  11166  11098  11158\n",
              "2  2019/10/16  11097  11147  11088  11131\n",
              "3  2019/10/15  11053  11098  11030  11087\n",
              "4  2019/10/14  10862  11068  10758  11056"
            ]
          },
          "metadata": {
            "tags": []
          },
          "execution_count": 8
        }
      ]
    },
    {
      "cell_type": "code",
      "metadata": {
        "id": "vboqkqVeYYHG",
        "colab_type": "code",
        "colab": {
          "base_uri": "https://localhost:8080/",
          "height": 297
        },
        "outputId": "6e734557-6008-4fc1-a2cf-633af4454e2b"
      },
      "source": [
        "df.describe()"
      ],
      "execution_count": 9,
      "outputs": [
        {
          "output_type": "execute_result",
          "data": {
            "text/html": [
              "<div>\n",
              "<style scoped>\n",
              "    .dataframe tbody tr th:only-of-type {\n",
              "        vertical-align: middle;\n",
              "    }\n",
              "\n",
              "    .dataframe tbody tr th {\n",
              "        vertical-align: top;\n",
              "    }\n",
              "\n",
              "    .dataframe thead th {\n",
              "        text-align: right;\n",
              "    }\n",
              "</style>\n",
              "<table border=\"1\" class=\"dataframe\">\n",
              "  <thead>\n",
              "    <tr style=\"text-align: right;\">\n",
              "      <th></th>\n",
              "      <th>open</th>\n",
              "      <th>high</th>\n",
              "      <th>low</th>\n",
              "      <th>close</th>\n",
              "    </tr>\n",
              "  </thead>\n",
              "  <tbody>\n",
              "    <tr>\n",
              "      <th>count</th>\n",
              "      <td>859.000000</td>\n",
              "      <td>859.000000</td>\n",
              "      <td>859.000000</td>\n",
              "      <td>859.000000</td>\n",
              "    </tr>\n",
              "    <tr>\n",
              "      <th>mean</th>\n",
              "      <td>7569.756694</td>\n",
              "      <td>7621.720605</td>\n",
              "      <td>7511.846333</td>\n",
              "      <td>7566.381839</td>\n",
              "    </tr>\n",
              "    <tr>\n",
              "      <th>std</th>\n",
              "      <td>2020.480631</td>\n",
              "      <td>2015.764647</td>\n",
              "      <td>2022.744683</td>\n",
              "      <td>2018.911515</td>\n",
              "    </tr>\n",
              "    <tr>\n",
              "      <th>min</th>\n",
              "      <td>3347.000000</td>\n",
              "      <td>3491.000000</td>\n",
              "      <td>3347.000000</td>\n",
              "      <td>3405.000000</td>\n",
              "    </tr>\n",
              "    <tr>\n",
              "      <th>25%</th>\n",
              "      <td>5956.000000</td>\n",
              "      <td>5992.500000</td>\n",
              "      <td>5899.000000</td>\n",
              "      <td>5940.500000</td>\n",
              "    </tr>\n",
              "    <tr>\n",
              "      <th>50%</th>\n",
              "      <td>7605.000000</td>\n",
              "      <td>7650.000000</td>\n",
              "      <td>7546.000000</td>\n",
              "      <td>7591.000000</td>\n",
              "    </tr>\n",
              "    <tr>\n",
              "      <th>75%</th>\n",
              "      <td>9083.000000</td>\n",
              "      <td>9115.000000</td>\n",
              "      <td>9007.500000</td>\n",
              "      <td>9068.500000</td>\n",
              "    </tr>\n",
              "    <tr>\n",
              "      <th>max</th>\n",
              "      <td>11166.000000</td>\n",
              "      <td>11245.000000</td>\n",
              "      <td>11132.000000</td>\n",
              "      <td>11158.000000</td>\n",
              "    </tr>\n",
              "  </tbody>\n",
              "</table>\n",
              "</div>"
            ],
            "text/plain": [
              "               open          high           low         close\n",
              "count    859.000000    859.000000    859.000000    859.000000\n",
              "mean    7569.756694   7621.720605   7511.846333   7566.381839\n",
              "std     2020.480631   2015.764647   2022.744683   2018.911515\n",
              "min     3347.000000   3491.000000   3347.000000   3405.000000\n",
              "25%     5956.000000   5992.500000   5899.000000   5940.500000\n",
              "50%     7605.000000   7650.000000   7546.000000   7591.000000\n",
              "75%     9083.000000   9115.000000   9007.500000   9068.500000\n",
              "max    11166.000000  11245.000000  11132.000000  11158.000000"
            ]
          },
          "metadata": {
            "tags": []
          },
          "execution_count": 9
        }
      ]
    },
    {
      "cell_type": "code",
      "metadata": {
        "id": "S91GdEluYhye",
        "colab_type": "code",
        "colab": {
          "base_uri": "https://localhost:8080/",
          "height": 282
        },
        "outputId": "e5f6b10d-839b-4564-b09d-7d0f4955e44a"
      },
      "source": [
        "df.plot()"
      ],
      "execution_count": 10,
      "outputs": [
        {
          "output_type": "execute_result",
          "data": {
            "text/plain": [
              "<matplotlib.axes._subplots.AxesSubplot at 0x7fa4bbb591d0>"
            ]
          },
          "metadata": {
            "tags": []
          },
          "execution_count": 10
        },
        {
          "output_type": "display_data",
          "data": {
            "image/png": "[encoded data removed]",
            "text/plain": [
              "<Figure size 432x288 with 1 Axes>"
            ]
          },
          "metadata": {
            "tags": []
          }
        }
      ]
    },
    {
      "cell_type": "code",
      "metadata": {
        "id": "0-99HFpDbJ9t",
        "colab_type": "code",
        "colab": {}
      },
      "source": [
        ""
      ],
      "execution_count": 0,
      "outputs": []
    }
  ]
}