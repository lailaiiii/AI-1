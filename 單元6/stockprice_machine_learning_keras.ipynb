{
  "nbformat": 4,
  "nbformat_minor": 0,
  "metadata": {
    "colab": {
      "name": "stock2 machine learning.ipynb",
      "provenance": [],
      "toc_visible": true,
      "include_colab_link": true
    },
    "kernelspec": {
      "name": "python3",
      "display_name": "Python 3"
    }
  },
  "cells": [
    {
      "cell_type": "markdown",
      "metadata": {
        "id": "view-in-github",
        "colab_type": "text"
      },
      "source": [
        "<a href=\"https://colab.research.google.com/github/tewei0328/AI/blob/master/%E5%96%AE%E5%85%836/stockprice_machine_learning_keras.ipynb\" target=\"_parent\"><img src=\"https://colab.research.google.com/assets/colab-badge.svg\" alt=\"Open In Colab\"/></a>"
      ]
    },
    {
      "cell_type": "markdown",
      "metadata": {
        "id": "gV_EcCiJ6x3i",
        "colab_type": "text"
      },
      "source": [
        "用深度學習幫你解析K線圖！\n",
        "\n",
        "https://www.finlab.tw/%E7%94%A8%E6%B7%B1%E5%BA%A6%E5%AD%B8%E7%BF%92%E5%B9%AB%E4%BD%A0%E8%A7%A3%E6%9E%90K%E7%B7%9A%E5%9C%96%EF%BC%81/"
      ]
    },
    {
      "cell_type": "code",
      "metadata": {
        "id": "2vpqXvt-enlZ",
        "colab_type": "code",
        "outputId": "fa4d8807-1388-458a-9d2d-3e5ae04a10d5",
        "colab": {
          "base_uri": "https://localhost:8080/",
          "height": 102
        }
      },
      "source": [
        "!git clone https://github.com/koreal6803/Stocker.git"
      ],
      "execution_count": 0,
      "outputs": [
        {
          "output_type": "stream",
          "text": [
            "Cloning into 'Stocker'...\n",
            "remote: Counting objects: 10, done.\u001b[K\n",
            "remote: Compressing objects: 100% (10/10), done.\u001b[K\n",
            "remote: Total 10 (delta 0), reused 10 (delta 0), pack-reused 0\u001b[K\n",
            "Unpacking objects: 100% (10/10), done.\n"
          ],
          "name": "stdout"
        }
      ]
    },
    {
      "cell_type": "code",
      "metadata": {
        "id": "oa4ihMM4fgjb",
        "colab_type": "code",
        "colab": {}
      },
      "source": [
        "!pip list"
      ],
      "execution_count": 0,
      "outputs": []
    },
    {
      "cell_type": "code",
      "metadata": {
        "id": "kw3ZN7Epf8Qe",
        "colab_type": "code",
        "outputId": "83364617-ea70-4da8-cbe2-ffa7d3b41ed5",
        "colab": {
          "base_uri": "https://localhost:8080/",
          "height": 34
        }
      },
      "source": [
        "!ls\n"
      ],
      "execution_count": 0,
      "outputs": [
        {
          "output_type": "stream",
          "text": [
            "sample_data  tx.csv\n"
          ],
          "name": "stdout"
        }
      ]
    },
    {
      "cell_type": "code",
      "metadata": {
        "id": "_OX5jnIiGlHp",
        "colab_type": "code",
        "colab": {}
      },
      "source": [
        "#資料讀入\n",
        "import pandas as pd\n",
        "df= pd.read_csv('tx.csv') #col_index=0表設定第一欄date為index\n",
        "df.dropna(how='any',inplace=True)"
      ],
      "execution_count": 0,
      "outputs": []
    },
    {
      "cell_type": "code",
      "metadata": {
        "id": "PK-DtpemHroX",
        "colab_type": "code",
        "outputId": "061b9162-f817-4fff-b127-bbbec6d4339f",
        "colab": {
          "base_uri": "https://localhost:8080/",
          "height": 270
        }
      },
      "source": [
        "df.tail(5)\n"
      ],
      "execution_count": 0,
      "outputs": [
        {
          "output_type": "execute_result",
          "data": {
            "text/html": [
              "<div>\n",
              "<style scoped>\n",
              "    .dataframe tbody tr th:only-of-type {\n",
              "        vertical-align: middle;\n",
              "    }\n",
              "\n",
              "    .dataframe tbody tr th {\n",
              "        vertical-align: top;\n",
              "    }\n",
              "\n",
              "    .dataframe thead th {\n",
              "        text-align: right;\n",
              "    }\n",
              "</style>\n",
              "<table border=\"1\" class=\"dataframe\">\n",
              "  <thead>\n",
              "    <tr style=\"text-align: right;\">\n",
              "      <th></th>\n",
              "      <th>日期時間</th>\n",
              "      <th>開盤</th>\n",
              "      <th>最高</th>\n",
              "      <th>最低</th>\n",
              "      <th>收盤</th>\n",
              "      <th>漲跌</th>\n",
              "      <th>漲跌幅(%)</th>\n",
              "      <th>成交量</th>\n",
              "      <th>轉換線</th>\n",
              "      <th>基準線</th>\n",
              "      <th>...</th>\n",
              "      <th>先行帶B</th>\n",
              "      <th>MA5</th>\n",
              "      <th>MA10</th>\n",
              "      <th>MA24</th>\n",
              "      <th>9-K</th>\n",
              "      <th>9-D</th>\n",
              "      <th>3K-2D</th>\n",
              "      <th>Week</th>\n",
              "      <th>Week1</th>\n",
              "      <th>y1</th>\n",
              "    </tr>\n",
              "  </thead>\n",
              "  <tbody>\n",
              "    <tr>\n",
              "      <th>268</th>\n",
              "      <td>2018/3/20</td>\n",
              "      <td>11027</td>\n",
              "      <td>11032</td>\n",
              "      <td>10919</td>\n",
              "      <td>11011</td>\n",
              "      <td>-15</td>\n",
              "      <td>0.0014</td>\n",
              "      <td>135221</td>\n",
              "      <td>10914.5</td>\n",
              "      <td>10641.5</td>\n",
              "      <td>...</td>\n",
              "      <td>10796.0</td>\n",
              "      <td>161191</td>\n",
              "      <td>161056</td>\n",
              "      <td>198587</td>\n",
              "      <td>78.78</td>\n",
              "      <td>80.91</td>\n",
              "      <td>74.51</td>\n",
              "      <td>2</td>\n",
              "      <td>-</td>\n",
              "      <td>U</td>\n",
              "    </tr>\n",
              "    <tr>\n",
              "      <th>269</th>\n",
              "      <td>2018/3/21</td>\n",
              "      <td>11019</td>\n",
              "      <td>11073</td>\n",
              "      <td>10991</td>\n",
              "      <td>11045</td>\n",
              "      <td>34</td>\n",
              "      <td>0.31%</td>\n",
              "      <td>97140</td>\n",
              "      <td>10974.0</td>\n",
              "      <td>10621.0</td>\n",
              "      <td>...</td>\n",
              "      <td>10796.0</td>\n",
              "      <td>147910</td>\n",
              "      <td>150872</td>\n",
              "      <td>183189</td>\n",
              "      <td>77.24</td>\n",
              "      <td>79.69</td>\n",
              "      <td>72.33</td>\n",
              "      <td>3</td>\n",
              "      <td>15</td>\n",
              "      <td>D</td>\n",
              "    </tr>\n",
              "    <tr>\n",
              "      <th>270</th>\n",
              "      <td>2018/3/22</td>\n",
              "      <td>11001</td>\n",
              "      <td>11122</td>\n",
              "      <td>10961</td>\n",
              "      <td>10989</td>\n",
              "      <td>-56</td>\n",
              "      <td>0.0051</td>\n",
              "      <td>220591</td>\n",
              "      <td>10983.0</td>\n",
              "      <td>10621.5</td>\n",
              "      <td>...</td>\n",
              "      <td>10796.0</td>\n",
              "      <td>161432</td>\n",
              "      <td>156842</td>\n",
              "      <td>177718</td>\n",
              "      <td>68.88</td>\n",
              "      <td>76.08</td>\n",
              "      <td>54.46</td>\n",
              "      <td>4</td>\n",
              "      <td>-</td>\n",
              "      <td>D</td>\n",
              "    </tr>\n",
              "    <tr>\n",
              "      <th>271</th>\n",
              "      <td>2018/3/23</td>\n",
              "      <td>10981</td>\n",
              "      <td>10982</td>\n",
              "      <td>10718</td>\n",
              "      <td>10733</td>\n",
              "      <td>-256</td>\n",
              "      <td>0.0233</td>\n",
              "      <td>244745</td>\n",
              "      <td>10920.0</td>\n",
              "      <td>10621.5</td>\n",
              "      <td>...</td>\n",
              "      <td>10756.5</td>\n",
              "      <td>167929</td>\n",
              "      <td>165431</td>\n",
              "      <td>178349</td>\n",
              "      <td>47.16</td>\n",
              "      <td>66.44</td>\n",
              "      <td>8.58</td>\n",
              "      <td>5</td>\n",
              "      <td>-</td>\n",
              "      <td>D</td>\n",
              "    </tr>\n",
              "    <tr>\n",
              "      <th>272</th>\n",
              "      <td>2018/3/26</td>\n",
              "      <td>10745</td>\n",
              "      <td>10847</td>\n",
              "      <td>10621</td>\n",
              "      <td>10840</td>\n",
              "      <td>107</td>\n",
              "      <td>1%</td>\n",
              "      <td>216843</td>\n",
              "      <td>10871.5</td>\n",
              "      <td>10621.5</td>\n",
              "      <td>...</td>\n",
              "      <td>10756.5</td>\n",
              "      <td>182908</td>\n",
              "      <td>171834</td>\n",
              "      <td>173694</td>\n",
              "      <td>46.01</td>\n",
              "      <td>59.63</td>\n",
              "      <td>18.76</td>\n",
              "      <td>1</td>\n",
              "      <td>-</td>\n",
              "      <td>D</td>\n",
              "    </tr>\n",
              "  </tbody>\n",
              "</table>\n",
              "<p>5 rows × 22 columns</p>\n",
              "</div>"
            ],
            "text/plain": [
              "          日期時間     開盤     最高     最低     收盤   漲跌  漲跌幅(%)     成交量    轉換線    \\\n",
              "268  2018/3/20  11027  11032  10919  11011  -15  0.0014  135221  10914.5   \n",
              "269  2018/3/21  11019  11073  10991  11045   34   0.31%   97140  10974.0   \n",
              "270  2018/3/22  11001  11122  10961  10989  -56  0.0051  220591  10983.0   \n",
              "271  2018/3/23  10981  10982  10718  10733 -256  0.0233  244745  10920.0   \n",
              "272  2018/3/26  10745  10847  10621  10840  107      1%  216843  10871.5   \n",
              "\n",
              "       基準線   ...    先行帶B      MA5    MA10    MA24    9-K    9-D    3K-2D  \\\n",
              "268  10641.5 ...  10796.0  161191  161056  198587  78.78  80.91    74.51   \n",
              "269  10621.0 ...  10796.0  147910  150872  183189  77.24  79.69    72.33   \n",
              "270  10621.5 ...  10796.0  161432  156842  177718  68.88  76.08    54.46   \n",
              "271  10621.5 ...  10756.5  167929  165431  178349  47.16  66.44     8.58   \n",
              "272  10621.5 ...  10756.5  182908  171834  173694  46.01  59.63    18.76   \n",
              "\n",
              "     Week  Week1  y1  \n",
              "268     2      -   U  \n",
              "269     3     15   D  \n",
              "270     4      -   D  \n",
              "271     5      -   D  \n",
              "272     1      -   D  \n",
              "\n",
              "[5 rows x 22 columns]"
            ]
          },
          "metadata": {
            "tags": []
          },
          "execution_count": 25
        }
      ]
    },
    {
      "cell_type": "code",
      "metadata": {
        "id": "9ttw0KbfFu9e",
        "colab_type": "code",
        "outputId": "d2cfe1ea-943e-4f4f-e6cb-c0baab5bba5f",
        "colab": {
          "base_uri": "https://localhost:8080/",
          "height": 34
        }
      },
      "source": [
        "df.shape"
      ],
      "execution_count": 0,
      "outputs": [
        {
          "output_type": "execute_result",
          "data": {
            "text/plain": [
              "(273, 22)"
            ]
          },
          "metadata": {
            "tags": []
          },
          "execution_count": 3
        }
      ]
    },
    {
      "cell_type": "code",
      "metadata": {
        "id": "X_-KPKQN-XNj",
        "colab_type": "code",
        "outputId": "e1541360-0889-4aa0-adcf-0d3e9da317f2",
        "colab": {
          "base_uri": "https://localhost:8080/",
          "height": 317
        }
      },
      "source": [
        "\n",
        "df.describe()"
      ],
      "execution_count": 0,
      "outputs": [
        {
          "output_type": "execute_result",
          "data": {
            "text/html": [
              "<div>\n",
              "<style scoped>\n",
              "    .dataframe tbody tr th:only-of-type {\n",
              "        vertical-align: middle;\n",
              "    }\n",
              "\n",
              "    .dataframe tbody tr th {\n",
              "        vertical-align: top;\n",
              "    }\n",
              "\n",
              "    .dataframe thead th {\n",
              "        text-align: right;\n",
              "    }\n",
              "</style>\n",
              "<table border=\"1\" class=\"dataframe\">\n",
              "  <thead>\n",
              "    <tr style=\"text-align: right;\">\n",
              "      <th></th>\n",
              "      <th>開盤</th>\n",
              "      <th>最高</th>\n",
              "      <th>最低</th>\n",
              "      <th>收盤</th>\n",
              "      <th>漲跌</th>\n",
              "      <th>成交量</th>\n",
              "      <th>轉換線</th>\n",
              "      <th>基準線</th>\n",
              "      <th>遲行帶</th>\n",
              "      <th>先行帶A</th>\n",
              "      <th>先行帶B</th>\n",
              "      <th>MA5</th>\n",
              "      <th>MA10</th>\n",
              "      <th>MA24</th>\n",
              "      <th>9-K</th>\n",
              "      <th>9-D</th>\n",
              "      <th>3K-2D</th>\n",
              "      <th>Week</th>\n",
              "    </tr>\n",
              "  </thead>\n",
              "  <tbody>\n",
              "    <tr>\n",
              "      <th>count</th>\n",
              "      <td>273.000000</td>\n",
              "      <td>273.000000</td>\n",
              "      <td>273.000000</td>\n",
              "      <td>273.000000</td>\n",
              "      <td>273.000000</td>\n",
              "      <td>273.000000</td>\n",
              "      <td>273.000000</td>\n",
              "      <td>273.000000</td>\n",
              "      <td>273.000000</td>\n",
              "      <td>273.000000</td>\n",
              "      <td>273.000000</td>\n",
              "      <td>273.000000</td>\n",
              "      <td>273.000000</td>\n",
              "      <td>273.000000</td>\n",
              "      <td>273.000000</td>\n",
              "      <td>273.000000</td>\n",
              "      <td>273.000000</td>\n",
              "      <td>273.000000</td>\n",
              "    </tr>\n",
              "    <tr>\n",
              "      <th>mean</th>\n",
              "      <td>10391.446886</td>\n",
              "      <td>10439.300366</td>\n",
              "      <td>10340.194139</td>\n",
              "      <td>10394.468864</td>\n",
              "      <td>3.813187</td>\n",
              "      <td>135782.373626</td>\n",
              "      <td>10348.695971</td>\n",
              "      <td>10258.082418</td>\n",
              "      <td>9500.080586</td>\n",
              "      <td>10172.063187</td>\n",
              "      <td>10020.538462</td>\n",
              "      <td>134912.032967</td>\n",
              "      <td>134360.893773</td>\n",
              "      <td>132530.805861</td>\n",
              "      <td>61.364029</td>\n",
              "      <td>61.587839</td>\n",
              "      <td>60.916264</td>\n",
              "      <td>3.098901</td>\n",
              "    </tr>\n",
              "    <tr>\n",
              "      <th>std</th>\n",
              "      <td>399.983131</td>\n",
              "      <td>409.206475</td>\n",
              "      <td>396.859578</td>\n",
              "      <td>401.816885</td>\n",
              "      <td>73.477324</td>\n",
              "      <td>45511.455136</td>\n",
              "      <td>393.668452</td>\n",
              "      <td>392.088021</td>\n",
              "      <td>3041.751840</td>\n",
              "      <td>455.707635</td>\n",
              "      <td>460.316275</td>\n",
              "      <td>34615.665925</td>\n",
              "      <td>30531.600399</td>\n",
              "      <td>26005.748148</td>\n",
              "      <td>21.950953</td>\n",
              "      <td>18.611589</td>\n",
              "      <td>36.308025</td>\n",
              "      <td>1.440396</td>\n",
              "    </tr>\n",
              "    <tr>\n",
              "      <th>min</th>\n",
              "      <td>9598.000000</td>\n",
              "      <td>9640.000000</td>\n",
              "      <td>9408.000000</td>\n",
              "      <td>9615.000000</td>\n",
              "      <td>-531.000000</td>\n",
              "      <td>23259.000000</td>\n",
              "      <td>9646.500000</td>\n",
              "      <td>9553.000000</td>\n",
              "      <td>0.000000</td>\n",
              "      <td>9224.500000</td>\n",
              "      <td>9158.500000</td>\n",
              "      <td>80413.000000</td>\n",
              "      <td>91334.000000</td>\n",
              "      <td>93961.000000</td>\n",
              "      <td>13.330000</td>\n",
              "      <td>19.900000</td>\n",
              "      <td>-14.330000</td>\n",
              "      <td>1.000000</td>\n",
              "    </tr>\n",
              "    <tr>\n",
              "      <th>25%</th>\n",
              "      <td>10063.000000</td>\n",
              "      <td>10105.000000</td>\n",
              "      <td>10018.000000</td>\n",
              "      <td>10070.000000</td>\n",
              "      <td>-31.000000</td>\n",
              "      <td>108313.000000</td>\n",
              "      <td>9973.500000</td>\n",
              "      <td>9896.000000</td>\n",
              "      <td>10070.000000</td>\n",
              "      <td>9811.500000</td>\n",
              "      <td>9694.000000</td>\n",
              "      <td>114711.000000</td>\n",
              "      <td>115399.000000</td>\n",
              "      <td>118128.000000</td>\n",
              "      <td>44.160000</td>\n",
              "      <td>48.700000</td>\n",
              "      <td>28.570000</td>\n",
              "      <td>2.000000</td>\n",
              "    </tr>\n",
              "    <tr>\n",
              "      <th>50%</th>\n",
              "      <td>10430.000000</td>\n",
              "      <td>10475.000000</td>\n",
              "      <td>10383.000000</td>\n",
              "      <td>10435.000000</td>\n",
              "      <td>10.000000</td>\n",
              "      <td>128892.000000</td>\n",
              "      <td>10413.000000</td>\n",
              "      <td>10349.000000</td>\n",
              "      <td>10435.000000</td>\n",
              "      <td>10212.000000</td>\n",
              "      <td>10003.000000</td>\n",
              "      <td>128268.000000</td>\n",
              "      <td>128437.000000</td>\n",
              "      <td>128076.000000</td>\n",
              "      <td>65.220000</td>\n",
              "      <td>63.670000</td>\n",
              "      <td>67.580000</td>\n",
              "      <td>3.000000</td>\n",
              "    </tr>\n",
              "    <tr>\n",
              "      <th>75%</th>\n",
              "      <td>10711.000000</td>\n",
              "      <td>10763.000000</td>\n",
              "      <td>10654.000000</td>\n",
              "      <td>10710.000000</td>\n",
              "      <td>42.000000</td>\n",
              "      <td>152243.000000</td>\n",
              "      <td>10660.000000</td>\n",
              "      <td>10609.000000</td>\n",
              "      <td>10710.000000</td>\n",
              "      <td>10552.000000</td>\n",
              "      <td>10524.500000</td>\n",
              "      <td>145050.000000</td>\n",
              "      <td>141380.000000</td>\n",
              "      <td>138387.000000</td>\n",
              "      <td>80.730000</td>\n",
              "      <td>77.780000</td>\n",
              "      <td>93.060000</td>\n",
              "      <td>4.000000</td>\n",
              "    </tr>\n",
              "    <tr>\n",
              "      <th>max</th>\n",
              "      <td>11228.000000</td>\n",
              "      <td>11271.000000</td>\n",
              "      <td>11181.000000</td>\n",
              "      <td>11225.000000</td>\n",
              "      <td>292.000000</td>\n",
              "      <td>466704.000000</td>\n",
              "      <td>11144.000000</td>\n",
              "      <td>10917.500000</td>\n",
              "      <td>11225.000000</td>\n",
              "      <td>11008.500000</td>\n",
              "      <td>10796.000000</td>\n",
              "      <td>324191.000000</td>\n",
              "      <td>261004.000000</td>\n",
              "      <td>212780.000000</td>\n",
              "      <td>94.580000</td>\n",
              "      <td>92.840000</td>\n",
              "      <td>119.190000</td>\n",
              "      <td>6.000000</td>\n",
              "    </tr>\n",
              "  </tbody>\n",
              "</table>\n",
              "</div>"
            ],
            "text/plain": [
              "                 開盤            最高            最低            收盤          漲跌  \\\n",
              "count    273.000000    273.000000    273.000000    273.000000  273.000000   \n",
              "mean   10391.446886  10439.300366  10340.194139  10394.468864    3.813187   \n",
              "std      399.983131    409.206475    396.859578    401.816885   73.477324   \n",
              "min     9598.000000   9640.000000   9408.000000   9615.000000 -531.000000   \n",
              "25%    10063.000000  10105.000000  10018.000000  10070.000000  -31.000000   \n",
              "50%    10430.000000  10475.000000  10383.000000  10435.000000   10.000000   \n",
              "75%    10711.000000  10763.000000  10654.000000  10710.000000   42.000000   \n",
              "max    11228.000000  11271.000000  11181.000000  11225.000000  292.000000   \n",
              "\n",
              "                 成交量         轉換線           基準線           遲行帶           先行帶A   \\\n",
              "count     273.000000    273.000000    273.000000    273.000000    273.000000   \n",
              "mean   135782.373626  10348.695971  10258.082418   9500.080586  10172.063187   \n",
              "std     45511.455136    393.668452    392.088021   3041.751840    455.707635   \n",
              "min     23259.000000   9646.500000   9553.000000      0.000000   9224.500000   \n",
              "25%    108313.000000   9973.500000   9896.000000  10070.000000   9811.500000   \n",
              "50%    128892.000000  10413.000000  10349.000000  10435.000000  10212.000000   \n",
              "75%    152243.000000  10660.000000  10609.000000  10710.000000  10552.000000   \n",
              "max    466704.000000  11144.000000  10917.500000  11225.000000  11008.500000   \n",
              "\n",
              "              先行帶B             MA5           MA10           MA24         9-K  \\\n",
              "count    273.000000     273.000000     273.000000     273.000000  273.000000   \n",
              "mean   10020.538462  134912.032967  134360.893773  132530.805861   61.364029   \n",
              "std      460.316275   34615.665925   30531.600399   26005.748148   21.950953   \n",
              "min     9158.500000   80413.000000   91334.000000   93961.000000   13.330000   \n",
              "25%     9694.000000  114711.000000  115399.000000  118128.000000   44.160000   \n",
              "50%    10003.000000  128268.000000  128437.000000  128076.000000   65.220000   \n",
              "75%    10524.500000  145050.000000  141380.000000  138387.000000   80.730000   \n",
              "max    10796.000000  324191.000000  261004.000000  212780.000000   94.580000   \n",
              "\n",
              "              9-D       3K-2D        Week  \n",
              "count  273.000000  273.000000  273.000000  \n",
              "mean    61.587839   60.916264    3.098901  \n",
              "std     18.611589   36.308025    1.440396  \n",
              "min     19.900000  -14.330000    1.000000  \n",
              "25%     48.700000   28.570000    2.000000  \n",
              "50%     63.670000   67.580000    3.000000  \n",
              "75%     77.780000   93.060000    4.000000  \n",
              "max     92.840000  119.190000    6.000000  "
            ]
          },
          "metadata": {
            "tags": []
          },
          "execution_count": 4
        }
      ]
    },
    {
      "cell_type": "code",
      "metadata": {
        "id": "eUgjrVO6FwTU",
        "colab_type": "code",
        "colab": {}
      },
      "source": [
        "df1=df[['日期時間','開盤', '最低', '最高', '成交量', '收盤']]"
      ],
      "execution_count": 0,
      "outputs": []
    },
    {
      "cell_type": "code",
      "metadata": {
        "id": "G-HKESHNGZ7c",
        "colab_type": "code",
        "outputId": "77c343af-684b-43bb-c9d8-ce2bd26d0b62",
        "colab": {
          "base_uri": "https://localhost:8080/",
          "height": 204
        }
      },
      "source": [
        "df1.head()"
      ],
      "execution_count": 0,
      "outputs": [
        {
          "output_type": "execute_result",
          "data": {
            "text/html": [
              "<div>\n",
              "<style scoped>\n",
              "    .dataframe tbody tr th:only-of-type {\n",
              "        vertical-align: middle;\n",
              "    }\n",
              "\n",
              "    .dataframe tbody tr th {\n",
              "        vertical-align: top;\n",
              "    }\n",
              "\n",
              "    .dataframe thead th {\n",
              "        text-align: right;\n",
              "    }\n",
              "</style>\n",
              "<table border=\"1\" class=\"dataframe\">\n",
              "  <thead>\n",
              "    <tr style=\"text-align: right;\">\n",
              "      <th></th>\n",
              "      <th>日期時間</th>\n",
              "      <th>開盤</th>\n",
              "      <th>最低</th>\n",
              "      <th>最高</th>\n",
              "      <th>成交量</th>\n",
              "      <th>收盤</th>\n",
              "    </tr>\n",
              "  </thead>\n",
              "  <tbody>\n",
              "    <tr>\n",
              "      <th>0</th>\n",
              "      <td>2017/2/16</td>\n",
              "      <td>9819</td>\n",
              "      <td>9758</td>\n",
              "      <td>9852</td>\n",
              "      <td>135167</td>\n",
              "      <td>9770</td>\n",
              "    </tr>\n",
              "    <tr>\n",
              "      <th>1</th>\n",
              "      <td>2017/2/17</td>\n",
              "      <td>9760</td>\n",
              "      <td>9747</td>\n",
              "      <td>9786</td>\n",
              "      <td>77126</td>\n",
              "      <td>9763</td>\n",
              "    </tr>\n",
              "    <tr>\n",
              "      <th>2</th>\n",
              "      <td>2017/2/18</td>\n",
              "      <td>9778</td>\n",
              "      <td>9772</td>\n",
              "      <td>9789</td>\n",
              "      <td>23259</td>\n",
              "      <td>9786</td>\n",
              "    </tr>\n",
              "    <tr>\n",
              "      <th>3</th>\n",
              "      <td>2017/2/20</td>\n",
              "      <td>9786</td>\n",
              "      <td>9737</td>\n",
              "      <td>9814</td>\n",
              "      <td>101188</td>\n",
              "      <td>9766</td>\n",
              "    </tr>\n",
              "    <tr>\n",
              "      <th>4</th>\n",
              "      <td>2017/2/21</td>\n",
              "      <td>9777</td>\n",
              "      <td>9728</td>\n",
              "      <td>9785</td>\n",
              "      <td>99758</td>\n",
              "      <td>9767</td>\n",
              "    </tr>\n",
              "  </tbody>\n",
              "</table>\n",
              "</div>"
            ],
            "text/plain": [
              "        日期時間    開盤    最低    最高     成交量    收盤\n",
              "0  2017/2/16  9819  9758  9852  135167  9770\n",
              "1  2017/2/17  9760  9747  9786   77126  9763\n",
              "2  2017/2/18  9778  9772  9789   23259  9786\n",
              "3  2017/2/20  9786  9737  9814  101188  9766\n",
              "4  2017/2/21  9777  9728  9785   99758  9767"
            ]
          },
          "metadata": {
            "tags": []
          },
          "execution_count": 6
        }
      ]
    },
    {
      "cell_type": "code",
      "metadata": {
        "id": "FozkXrfzGctv",
        "colab_type": "code",
        "colab": {}
      },
      "source": [
        "df1.columns=['date', 'open', 'low','high','volume','close']"
      ],
      "execution_count": 0,
      "outputs": []
    },
    {
      "cell_type": "code",
      "metadata": {
        "id": "otLzGMqIHD70",
        "colab_type": "code",
        "colab": {}
      },
      "source": [
        "df1.index=df1['date']"
      ],
      "execution_count": 0,
      "outputs": []
    },
    {
      "cell_type": "code",
      "metadata": {
        "id": "78anqJapHSq6",
        "colab_type": "code",
        "colab": {}
      },
      "source": [
        "df1=df1[['open', 'low','high','volume','close']]"
      ],
      "execution_count": 0,
      "outputs": []
    },
    {
      "cell_type": "code",
      "metadata": {
        "id": "iK8siUI5H-XL",
        "colab_type": "code",
        "outputId": "732fe856-d10e-40b6-dfad-b7730162e4c0",
        "colab": {
          "base_uri": "https://localhost:8080/",
          "height": 235
        }
      },
      "source": [
        "df1.head()"
      ],
      "execution_count": 0,
      "outputs": [
        {
          "output_type": "execute_result",
          "data": {
            "text/html": [
              "<div>\n",
              "<style scoped>\n",
              "    .dataframe tbody tr th:only-of-type {\n",
              "        vertical-align: middle;\n",
              "    }\n",
              "\n",
              "    .dataframe tbody tr th {\n",
              "        vertical-align: top;\n",
              "    }\n",
              "\n",
              "    .dataframe thead th {\n",
              "        text-align: right;\n",
              "    }\n",
              "</style>\n",
              "<table border=\"1\" class=\"dataframe\">\n",
              "  <thead>\n",
              "    <tr style=\"text-align: right;\">\n",
              "      <th></th>\n",
              "      <th>open</th>\n",
              "      <th>low</th>\n",
              "      <th>high</th>\n",
              "      <th>volume</th>\n",
              "      <th>close</th>\n",
              "    </tr>\n",
              "    <tr>\n",
              "      <th>date</th>\n",
              "      <th></th>\n",
              "      <th></th>\n",
              "      <th></th>\n",
              "      <th></th>\n",
              "      <th></th>\n",
              "    </tr>\n",
              "  </thead>\n",
              "  <tbody>\n",
              "    <tr>\n",
              "      <th>2017/2/16</th>\n",
              "      <td>9819</td>\n",
              "      <td>9758</td>\n",
              "      <td>9852</td>\n",
              "      <td>135167</td>\n",
              "      <td>9770</td>\n",
              "    </tr>\n",
              "    <tr>\n",
              "      <th>2017/2/17</th>\n",
              "      <td>9760</td>\n",
              "      <td>9747</td>\n",
              "      <td>9786</td>\n",
              "      <td>77126</td>\n",
              "      <td>9763</td>\n",
              "    </tr>\n",
              "    <tr>\n",
              "      <th>2017/2/18</th>\n",
              "      <td>9778</td>\n",
              "      <td>9772</td>\n",
              "      <td>9789</td>\n",
              "      <td>23259</td>\n",
              "      <td>9786</td>\n",
              "    </tr>\n",
              "    <tr>\n",
              "      <th>2017/2/20</th>\n",
              "      <td>9786</td>\n",
              "      <td>9737</td>\n",
              "      <td>9814</td>\n",
              "      <td>101188</td>\n",
              "      <td>9766</td>\n",
              "    </tr>\n",
              "    <tr>\n",
              "      <th>2017/2/21</th>\n",
              "      <td>9777</td>\n",
              "      <td>9728</td>\n",
              "      <td>9785</td>\n",
              "      <td>99758</td>\n",
              "      <td>9767</td>\n",
              "    </tr>\n",
              "  </tbody>\n",
              "</table>\n",
              "</div>"
            ],
            "text/plain": [
              "           open   low  high  volume  close\n",
              "date                                      \n",
              "2017/2/16  9819  9758  9852  135167   9770\n",
              "2017/2/17  9760  9747  9786   77126   9763\n",
              "2017/2/18  9778  9772  9789   23259   9786\n",
              "2017/2/20  9786  9737  9814  101188   9766\n",
              "2017/2/21  9777  9728  9785   99758   9767"
            ]
          },
          "metadata": {
            "tags": []
          },
          "execution_count": 10
        }
      ]
    },
    {
      "cell_type": "code",
      "metadata": {
        "id": "jSfFOAAqIP2l",
        "colab_type": "code",
        "outputId": "41eb7a62-d06b-4632-e412-9be6b9b8f107",
        "colab": {
          "base_uri": "https://localhost:8080/",
          "height": 368
        }
      },
      "source": [
        "df1[['close', 'open']].plot()"
      ],
      "execution_count": 0,
      "outputs": [
        {
          "output_type": "execute_result",
          "data": {
            "text/plain": [
              "<matplotlib.axes._subplots.AxesSubplot at 0x7f7bb3668550>"
            ]
          },
          "metadata": {
            "tags": []
          },
          "execution_count": 12
        },
        {
          "output_type": "display_data",
          "data": {
            "image/png": "[encoded data removed]",
            "text/plain": [
              "<matplotlib.figure.Figure at 0x7f7bb375f8d0>"
            ]
          },
          "metadata": {
            "tags": []
          }
        }
      ]
    },
    {
      "cell_type": "code",
      "metadata": {
        "id": "hQi8-m1oHs4W",
        "colab_type": "code",
        "outputId": "b91717ea-ad42-4678-ea12-c842584c65cc",
        "colab": {
          "base_uri": "https://localhost:8080/",
          "height": 71
        }
      },
      "source": [
        "#資料正規化\n",
        "from sklearn import preprocessing\n",
        "def normalize(df):\n",
        "    newdf= df.copy()\n",
        "    min_max_scaler = preprocessing.MinMaxScaler()\n",
        "    \n",
        "    newdf['open'] = min_max_scaler.fit_transform(df.open.values.reshape(-1,1))\n",
        "    newdf['low'] = min_max_scaler.fit_transform(df.low.values.reshape(-1,1))\n",
        "    newdf['high'] = min_max_scaler.fit_transform(df.high.values.reshape(-1,1))\n",
        "    newdf['volume'] = min_max_scaler.fit_transform(df.volume.values.reshape(-1,1))\n",
        "    newdf['close'] = min_max_scaler.fit_transform(df.close.values.reshape(-1,1))\n",
        "    \n",
        "    return newdf\n",
        "df1_norm= normalize(df1)"
      ],
      "execution_count": 0,
      "outputs": [
        {
          "output_type": "stream",
          "text": [
            "/usr/local/lib/python3.6/dist-packages/sklearn/utils/validation.py:475: DataConversionWarning: Data with input dtype int64 was converted to float64 by MinMaxScaler.\n",
            "  warnings.warn(msg, DataConversionWarning)\n"
          ],
          "name": "stderr"
        }
      ]
    },
    {
      "cell_type": "code",
      "metadata": {
        "id": "PdUfN9PMKi9z",
        "colab_type": "code",
        "outputId": "ecbf86c0-30db-4e4b-c7f1-a93408ed8f95",
        "colab": {
          "base_uri": "https://localhost:8080/",
          "height": 235
        }
      },
      "source": [
        "df1_norm.head()"
      ],
      "execution_count": 0,
      "outputs": [
        {
          "output_type": "execute_result",
          "data": {
            "text/html": [
              "<div>\n",
              "<style scoped>\n",
              "    .dataframe tbody tr th:only-of-type {\n",
              "        vertical-align: middle;\n",
              "    }\n",
              "\n",
              "    .dataframe tbody tr th {\n",
              "        vertical-align: top;\n",
              "    }\n",
              "\n",
              "    .dataframe thead th {\n",
              "        text-align: right;\n",
              "    }\n",
              "</style>\n",
              "<table border=\"1\" class=\"dataframe\">\n",
              "  <thead>\n",
              "    <tr style=\"text-align: right;\">\n",
              "      <th></th>\n",
              "      <th>open</th>\n",
              "      <th>low</th>\n",
              "      <th>high</th>\n",
              "      <th>volume</th>\n",
              "      <th>close</th>\n",
              "    </tr>\n",
              "    <tr>\n",
              "      <th>date</th>\n",
              "      <th></th>\n",
              "      <th></th>\n",
              "      <th></th>\n",
              "      <th></th>\n",
              "      <th></th>\n",
              "    </tr>\n",
              "  </thead>\n",
              "  <tbody>\n",
              "    <tr>\n",
              "      <th>2017/2/16</th>\n",
              "      <td>0.135583</td>\n",
              "      <td>0.197406</td>\n",
              "      <td>0.129982</td>\n",
              "      <td>0.252360</td>\n",
              "      <td>0.096273</td>\n",
              "    </tr>\n",
              "    <tr>\n",
              "      <th>2017/2/17</th>\n",
              "      <td>0.099387</td>\n",
              "      <td>0.191201</td>\n",
              "      <td>0.089516</td>\n",
              "      <td>0.121474</td>\n",
              "      <td>0.091925</td>\n",
              "    </tr>\n",
              "    <tr>\n",
              "      <th>2017/2/18</th>\n",
              "      <td>0.110429</td>\n",
              "      <td>0.205302</td>\n",
              "      <td>0.091355</td>\n",
              "      <td>0.000000</td>\n",
              "      <td>0.106211</td>\n",
              "    </tr>\n",
              "    <tr>\n",
              "      <th>2017/2/20</th>\n",
              "      <td>0.115337</td>\n",
              "      <td>0.185561</td>\n",
              "      <td>0.106683</td>\n",
              "      <td>0.175735</td>\n",
              "      <td>0.093789</td>\n",
              "    </tr>\n",
              "    <tr>\n",
              "      <th>2017/2/21</th>\n",
              "      <td>0.109816</td>\n",
              "      <td>0.180485</td>\n",
              "      <td>0.088903</td>\n",
              "      <td>0.172511</td>\n",
              "      <td>0.094410</td>\n",
              "    </tr>\n",
              "  </tbody>\n",
              "</table>\n",
              "</div>"
            ],
            "text/plain": [
              "               open       low      high    volume     close\n",
              "date                                                       \n",
              "2017/2/16  0.135583  0.197406  0.129982  0.252360  0.096273\n",
              "2017/2/17  0.099387  0.191201  0.089516  0.121474  0.091925\n",
              "2017/2/18  0.110429  0.205302  0.091355  0.000000  0.106211\n",
              "2017/2/20  0.115337  0.185561  0.106683  0.175735  0.093789\n",
              "2017/2/21  0.109816  0.180485  0.088903  0.172511  0.094410"
            ]
          },
          "metadata": {
            "tags": []
          },
          "execution_count": 14
        }
      ]
    },
    {
      "cell_type": "code",
      "metadata": {
        "id": "lm4N4ANxK8Pa",
        "colab_type": "code",
        "colab": {}
      },
      "source": [
        "import numpy as np\n",
        "def data_helper(df, time_frame):\n",
        "    \n",
        "    # 資料維度: 開盤價、收盤價、最高價、最低價、成交量, 5維\n",
        "    number_features = len(df.columns)\n",
        "    # 將dataframe 轉成 numpy array\n",
        "    datavalue = df.as_matrix()\n",
        "    result = []\n",
        "    # 若想要觀察的 time_frame 為20天, 需要多加一天做為驗證答案\n",
        "    for index in range( len(datavalue) - (time_frame+1) ): # 從 datavalue 的第0個跑到倒數第 time_frame+1 個\n",
        "        result.append(datavalue[index: index + (time_frame+1) ]) # 逐筆取出 time_frame+1 個K棒數值做為一筆 instance\n",
        "    \n",
        "    result = np.array(result)\n",
        "    number_train = round(0.9 * result.shape[0]) # 取 result 的前90% instance做為訓練資料\n",
        "    \n",
        "    x_train = result[:int(number_train), :-1] # 訓練資料中, 只取每一個 time_frame 中除了最後一筆的所有資料做為feature\n",
        "    y_train = result[:int(number_train), -1][:,-1] # 訓練資料中, 取每一個 time_frame 中最後一筆資料的最後一個數值(收盤價)做為答案\n",
        "    \n",
        "    # 測試資料\n",
        "    x_test = result[int(number_train):, :-1]\n",
        "    y_test = result[int(number_train):, -1][:,-1]\n",
        "    \n",
        "    # 將資料組成變好看一點\n",
        "    x_train = np.reshape(x_train, (x_train.shape[0], x_train.shape[1], number_features))\n",
        "    x_test = np.reshape(x_test, (x_test.shape[0], x_test.shape[1], number_features))  \n",
        "    return [x_train, y_train, x_test, y_test]\n",
        "# 以20天為一區間進行股價預測\n",
        "X_train, y_train, X_test, y_test = data_helper(df1_norm, 20)"
      ],
      "execution_count": 0,
      "outputs": []
    },
    {
      "cell_type": "code",
      "metadata": {
        "id": "fEHL1Ss8MOP4",
        "colab_type": "code",
        "outputId": "e6776b31-bdd0-4ccc-919b-5b036ca4454c",
        "colab": {
          "base_uri": "https://localhost:8080/",
          "height": 102
        }
      },
      "source": [
        "y_test"
      ],
      "execution_count": 0,
      "outputs": [
        {
          "output_type": "execute_result",
          "data": {
            "text/plain": [
              "array([0.56086957, 0.45838509, 0.49565217, 0.67701863, 0.62795031,\n",
              "       0.72484472, 0.7484472 , 0.72919255, 0.69503106, 0.66024845,\n",
              "       0.63167702, 0.72732919, 0.67888199, 0.75279503, 0.77453416,\n",
              "       0.87391304, 0.92173913, 0.87888199, 0.88571429, 0.87018634,\n",
              "       0.87639752, 0.86708075, 0.88819876, 0.85341615, 0.69440994])"
            ]
          },
          "metadata": {
            "tags": []
          },
          "execution_count": 16
        }
      ]
    },
    {
      "cell_type": "code",
      "metadata": {
        "id": "QT2dtGd9MTT5",
        "colab_type": "code",
        "outputId": "b1b98a65-2036-4353-e314-a12853930458",
        "colab": {
          "base_uri": "https://localhost:8080/",
          "height": 34
        }
      },
      "source": [
        "# Keras 模型建立\n",
        "from keras.models import Sequential\n",
        "from keras.layers.core import Dense, Dropout, Activation\n",
        "from keras.layers.recurrent import LSTM\n",
        "import keras\n",
        "def build_model(input_length, input_dim):\n",
        "    d = 0.3\n",
        "    model = Sequential()\n",
        "    model.add(LSTM(256, input_shape=(input_length, input_dim), return_sequences=True))\n",
        "    model.add(Dropout(d))\n",
        "    model.add(LSTM(256, input_shape=(input_length, input_dim), return_sequences=False))\n",
        "    model.add(Dropout(d))\n",
        "    model.add(Dense(16,kernel_initializer=\"uniform\",activation='relu'))\n",
        "    model.add(Dense(1,kernel_initializer=\"uniform\",activation='linear'))\n",
        "    model.compile(loss='mse',optimizer='adam', metrics=['accuracy'])\n",
        "    return model\n",
        "# 20天、5維\n",
        "model = build_model( 20, 5 )"
      ],
      "execution_count": 0,
      "outputs": [
        {
          "output_type": "stream",
          "text": [
            "Using TensorFlow backend.\n"
          ],
          "name": "stderr"
        }
      ]
    },
    {
      "cell_type": "code",
      "metadata": {
        "id": "Qnyp7Jz06gep",
        "colab_type": "code",
        "outputId": "dc337526-4bff-4b4c-ded2-498f1c14d3a2",
        "colab": {
          "base_uri": "https://localhost:8080/",
          "height": 1771
        }
      },
      "source": [
        "# LSTM 模型訓練\n",
        "# 一個batch有128個instance，總共跑50個迭代\n",
        "model.fit( X_train, y_train, batch_size=128, epochs=50, validation_split=0.1, verbose=1)"
      ],
      "execution_count": 0,
      "outputs": [
        {
          "output_type": "stream",
          "text": [
            "Train on 204 samples, validate on 23 samples\n",
            "Epoch 1/50\n",
            "204/204 [==============================] - 2s 11ms/step - loss: 0.2357 - acc: 0.0049 - val_loss: 0.6748 - val_acc: 0.0000e+00\n",
            "Epoch 2/50\n",
            "204/204 [==============================] - 1s 4ms/step - loss: 0.2033 - acc: 0.0049 - val_loss: 0.4864 - val_acc: 0.0000e+00\n",
            "Epoch 3/50\n",
            "204/204 [==============================] - 1s 4ms/step - loss: 0.1159 - acc: 0.0049 - val_loss: 0.1636 - val_acc: 0.0000e+00\n",
            "Epoch 4/50\n",
            "204/204 [==============================] - 1s 4ms/step - loss: 0.0310 - acc: 0.0049 - val_loss: 0.0558 - val_acc: 0.0435\n",
            "Epoch 5/50\n",
            "204/204 [==============================] - 1s 4ms/step - loss: 0.0549 - acc: 0.0000e+00 - val_loss: 0.1016 - val_acc: 0.0435\n",
            "Epoch 6/50\n",
            "204/204 [==============================] - 1s 4ms/step - loss: 0.0364 - acc: 0.0049 - val_loss: 0.1746 - val_acc: 0.0000e+00\n",
            "Epoch 7/50\n",
            "204/204 [==============================] - 1s 4ms/step - loss: 0.0341 - acc: 0.0049 - val_loss: 0.2240 - val_acc: 0.0000e+00\n",
            "Epoch 8/50\n",
            "204/204 [==============================] - 1s 4ms/step - loss: 0.0367 - acc: 0.0049 - val_loss: 0.2320 - val_acc: 0.0000e+00\n",
            "Epoch 9/50\n",
            "204/204 [==============================] - 1s 4ms/step - loss: 0.0365 - acc: 0.0049 - val_loss: 0.2096 - val_acc: 0.0000e+00\n",
            "Epoch 10/50\n",
            "204/204 [==============================] - 1s 4ms/step - loss: 0.0325 - acc: 0.0049 - val_loss: 0.1724 - val_acc: 0.0000e+00\n",
            "Epoch 11/50\n",
            "204/204 [==============================] - 1s 4ms/step - loss: 0.0267 - acc: 0.0049 - val_loss: 0.1314 - val_acc: 0.0435\n",
            "Epoch 12/50\n",
            "204/204 [==============================] - 1s 4ms/step - loss: 0.0221 - acc: 0.0049 - val_loss: 0.1006 - val_acc: 0.0435\n",
            "Epoch 13/50\n",
            "204/204 [==============================] - 1s 4ms/step - loss: 0.0168 - acc: 0.0049 - val_loss: 0.0861 - val_acc: 0.0435\n",
            "Epoch 14/50\n",
            "204/204 [==============================] - 1s 4ms/step - loss: 0.0107 - acc: 0.0049 - val_loss: 0.0840 - val_acc: 0.0435\n",
            "Epoch 15/50\n",
            "204/204 [==============================] - 1s 4ms/step - loss: 0.0098 - acc: 0.0049 - val_loss: 0.0450 - val_acc: 0.0435\n",
            "Epoch 16/50\n",
            "204/204 [==============================] - 1s 4ms/step - loss: 0.0096 - acc: 0.0049 - val_loss: 0.0336 - val_acc: 0.0435\n",
            "Epoch 17/50\n",
            "204/204 [==============================] - 1s 4ms/step - loss: 0.0107 - acc: 0.0049 - val_loss: 0.0458 - val_acc: 0.0435\n",
            "Epoch 18/50\n",
            "204/204 [==============================] - 1s 4ms/step - loss: 0.0098 - acc: 0.0049 - val_loss: 0.0388 - val_acc: 0.0435\n",
            "Epoch 19/50\n",
            "204/204 [==============================] - 1s 4ms/step - loss: 0.0077 - acc: 0.0049 - val_loss: 0.0460 - val_acc: 0.0435\n",
            "Epoch 20/50\n",
            "204/204 [==============================] - 1s 4ms/step - loss: 0.0073 - acc: 0.0049 - val_loss: 0.0579 - val_acc: 0.0435\n",
            "Epoch 21/50\n",
            "204/204 [==============================] - 1s 4ms/step - loss: 0.0070 - acc: 0.0049 - val_loss: 0.0562 - val_acc: 0.0435\n",
            "Epoch 22/50\n",
            "204/204 [==============================] - 1s 4ms/step - loss: 0.0070 - acc: 0.0049 - val_loss: 0.0551 - val_acc: 0.0435\n",
            "Epoch 23/50\n",
            "204/204 [==============================] - 1s 4ms/step - loss: 0.0074 - acc: 0.0049 - val_loss: 0.0648 - val_acc: 0.0435\n",
            "Epoch 24/50\n",
            "204/204 [==============================] - 1s 4ms/step - loss: 0.0077 - acc: 0.0049 - val_loss: 0.0653 - val_acc: 0.0435\n",
            "Epoch 25/50\n",
            "204/204 [==============================] - 1s 4ms/step - loss: 0.0069 - acc: 0.0049 - val_loss: 0.0568 - val_acc: 0.0435\n",
            "Epoch 26/50\n",
            "204/204 [==============================] - 1s 4ms/step - loss: 0.0065 - acc: 0.0049 - val_loss: 0.0514 - val_acc: 0.0435\n",
            "Epoch 27/50\n",
            "204/204 [==============================] - 1s 4ms/step - loss: 0.0072 - acc: 0.0049 - val_loss: 0.0566 - val_acc: 0.0435\n",
            "Epoch 28/50\n",
            "204/204 [==============================] - 1s 4ms/step - loss: 0.0070 - acc: 0.0049 - val_loss: 0.0556 - val_acc: 0.0435\n",
            "Epoch 29/50\n",
            "204/204 [==============================] - 1s 4ms/step - loss: 0.0069 - acc: 0.0049 - val_loss: 0.0454 - val_acc: 0.0435\n",
            "Epoch 30/50\n",
            "204/204 [==============================] - 1s 4ms/step - loss: 0.0070 - acc: 0.0049 - val_loss: 0.0480 - val_acc: 0.0435\n",
            "Epoch 31/50\n",
            "204/204 [==============================] - 1s 4ms/step - loss: 0.0067 - acc: 0.0049 - val_loss: 0.0531 - val_acc: 0.0435\n",
            "Epoch 32/50\n",
            "204/204 [==============================] - 1s 4ms/step - loss: 0.0063 - acc: 0.0049 - val_loss: 0.0479 - val_acc: 0.0435\n",
            "Epoch 33/50\n",
            "204/204 [==============================] - 1s 4ms/step - loss: 0.0065 - acc: 0.0049 - val_loss: 0.0459 - val_acc: 0.0435\n",
            "Epoch 34/50\n",
            "204/204 [==============================] - 1s 4ms/step - loss: 0.0063 - acc: 0.0049 - val_loss: 0.0559 - val_acc: 0.0435\n",
            "Epoch 35/50\n",
            "204/204 [==============================] - 1s 4ms/step - loss: 0.0066 - acc: 0.0049 - val_loss: 0.0562 - val_acc: 0.0435\n",
            "Epoch 36/50\n",
            "204/204 [==============================] - 1s 4ms/step - loss: 0.0067 - acc: 0.0049 - val_loss: 0.0479 - val_acc: 0.0435\n",
            "Epoch 37/50\n",
            "204/204 [==============================] - 1s 4ms/step - loss: 0.0070 - acc: 0.0049 - val_loss: 0.0500 - val_acc: 0.0435\n",
            "Epoch 38/50\n",
            "204/204 [==============================] - 1s 4ms/step - loss: 0.0069 - acc: 0.0049 - val_loss: 0.0558 - val_acc: 0.0435\n",
            "Epoch 39/50\n",
            "204/204 [==============================] - 1s 4ms/step - loss: 0.0061 - acc: 0.0049 - val_loss: 0.0480 - val_acc: 0.0435\n",
            "Epoch 40/50\n",
            "204/204 [==============================] - 1s 4ms/step - loss: 0.0061 - acc: 0.0049 - val_loss: 0.0441 - val_acc: 0.0435\n",
            "Epoch 41/50\n",
            "204/204 [==============================] - 1s 4ms/step - loss: 0.0067 - acc: 0.0049 - val_loss: 0.0524 - val_acc: 0.0435\n",
            "Epoch 42/50\n",
            "204/204 [==============================] - 1s 4ms/step - loss: 0.0061 - acc: 0.0049 - val_loss: 0.0515 - val_acc: 0.0435\n",
            "Epoch 43/50\n",
            "204/204 [==============================] - 1s 4ms/step - loss: 0.0061 - acc: 0.0049 - val_loss: 0.0428 - val_acc: 0.0435\n",
            "Epoch 44/50\n",
            "204/204 [==============================] - 1s 4ms/step - loss: 0.0070 - acc: 0.0049 - val_loss: 0.0456 - val_acc: 0.0435\n",
            "Epoch 45/50\n",
            "204/204 [==============================] - 1s 4ms/step - loss: 0.0062 - acc: 0.0049 - val_loss: 0.0497 - val_acc: 0.0435\n",
            "Epoch 46/50\n",
            "204/204 [==============================] - 1s 4ms/step - loss: 0.0061 - acc: 0.0049 - val_loss: 0.0447 - val_acc: 0.0435\n",
            "Epoch 47/50\n",
            "204/204 [==============================] - 1s 4ms/step - loss: 0.0057 - acc: 0.0049 - val_loss: 0.0466 - val_acc: 0.0435\n",
            "Epoch 48/50\n",
            "204/204 [==============================] - 1s 4ms/step - loss: 0.0065 - acc: 0.0049 - val_loss: 0.0480 - val_acc: 0.0435\n",
            "Epoch 49/50\n",
            "204/204 [==============================] - 1s 4ms/step - loss: 0.0064 - acc: 0.0049 - val_loss: 0.0404 - val_acc: 0.0435\n",
            "Epoch 50/50\n",
            "204/204 [==============================] - 1s 4ms/step - loss: 0.0064 - acc: 0.0049 - val_loss: 0.0446 - val_acc: 0.0435\n"
          ],
          "name": "stdout"
        },
        {
          "output_type": "execute_result",
          "data": {
            "text/plain": [
              "<keras.callbacks.History at 0x7f7bb0dfa780>"
            ]
          },
          "metadata": {
            "tags": []
          },
          "execution_count": 18
        }
      ]
    },
    {
      "cell_type": "code",
      "metadata": {
        "id": "v9PnK1-kI4jg",
        "colab_type": "code",
        "outputId": "3b718609-9a0f-4e34-85bc-968c077b3fb5",
        "colab": {
          "base_uri": "https://localhost:8080/",
          "height": 71
        }
      },
      "source": [
        "#LSTM 模型預測股價及還原數值\n",
        "def denormalize(df, norm_value):\n",
        "    original_value = df['close'].values.reshape(-1,1)\n",
        "    norm_value = norm_value.reshape(-1,1)\n",
        "    \n",
        "    min_max_scaler = preprocessing.MinMaxScaler()\n",
        "    min_max_scaler.fit_transform(original_value)\n",
        "    denorm_value = min_max_scaler.inverse_transform(norm_value)\n",
        "    \n",
        "    return denorm_value\n",
        "# 用訓練好的 LSTM 模型對測試資料集進行預測\n",
        "pred = model.predict(X_test)\n",
        "# 將預測值與正確答案還原回原來的區間值\n",
        "denorm_pred = denormalize(df1, pred)\n",
        "denorm_ytest = denormalize(df1, y_test)"
      ],
      "execution_count": 0,
      "outputs": [
        {
          "output_type": "stream",
          "text": [
            "/usr/local/lib/python3.6/dist-packages/sklearn/utils/validation.py:475: DataConversionWarning: Data with input dtype int64 was converted to float64 by MinMaxScaler.\n",
            "  warnings.warn(msg, DataConversionWarning)\n"
          ],
          "name": "stderr"
        }
      ]
    },
    {
      "cell_type": "code",
      "metadata": {
        "id": "_ZnaxUExFE4G",
        "colab_type": "code",
        "outputId": "f0225d38-3004-4032-a310-0227037c3860",
        "colab": {
          "base_uri": "https://localhost:8080/",
          "height": 265
        }
      },
      "source": [
        "# LSTM 預測股價結果\n",
        "import matplotlib.pyplot as plt\n",
        "%matplotlib inline  \n",
        "plt.plot(denorm_pred,color='red', label='Prediction')\n",
        "plt.plot(denorm_ytest,color='blue', label='Answer')\n",
        "plt.legend(loc='best')\n",
        "plt.show()"
      ],
      "execution_count": 0,
      "outputs": [
        {
          "output_type": "display_data",
          "data": {
            "image/png": "[encoded data removed]",
            "text/plain": [
              "<matplotlib.figure.Figure at 0x7f7ba07fe320>"
            ]
          },
          "metadata": {
            "tags": []
          }
        }
      ]
    },
    {
      "cell_type": "code",
      "metadata": {
        "id": "D-W4ZpUDIjya",
        "colab_type": "code",
        "outputId": "1feaacc6-a5cc-4133-c20b-1f193305f7d3",
        "colab": {
          "base_uri": "https://localhost:8080/",
          "height": 319
        }
      },
      "source": [
        "# 先看看訓練集本身的訓練結果\n",
        "pred = model.predict(X_train)\n",
        "# 將預測值與正確答案還原回原來的區間值\n",
        "denorm_pred = denormalize(df1, pred)\n",
        "denorm_ytrain = denormalize(df1, y_train)\n",
        "\n",
        "# LSTM 預測股價結果\n",
        "import matplotlib.pyplot as plt\n",
        "%matplotlib inline  \n",
        "plt.plot(denorm_pred,color='red', label='Prediction')\n",
        "plt.plot(denorm_ytrain,color='blue', label='Answer')\n",
        "plt.legend(loc='best')\n",
        "plt.show()"
      ],
      "execution_count": 0,
      "outputs": [
        {
          "output_type": "stream",
          "text": [
            "/usr/local/lib/python3.6/dist-packages/sklearn/utils/validation.py:475: DataConversionWarning: Data with input dtype int64 was converted to float64 by MinMaxScaler.\n",
            "  warnings.warn(msg, DataConversionWarning)\n"
          ],
          "name": "stderr"
        },
        {
          "output_type": "display_data",
          "data": {
            "image/png": "[encoded data removed]",
            "text/plain": [
              "<matplotlib.figure.Figure at 0x7f7ba09d1358>"
            ]
          },
          "metadata": {
            "tags": []
          }
        }
      ]
    },
    {
      "cell_type": "code",
      "metadata": {
        "id": "SRjPW5dY_eWt",
        "colab_type": "code",
        "outputId": "c3cb92d4-2079-4b91-98ab-bbc7aa64e136",
        "colab": {
          "base_uri": "https://localhost:8080/",
          "height": 1771
        }
      },
      "source": [
        "# LSTM 模型訓練 (將validation_split由0.1改成0.05後，成效好多了)\n",
        "# 一個batch有128個instance，總共跑50個迭代\n",
        "model.fit( X_train, y_train, batch_size=128, epochs=50, validation_split=0.05, verbose=1)"
      ],
      "execution_count": 0,
      "outputs": [
        {
          "output_type": "stream",
          "text": [
            "Train on 215 samples, validate on 12 samples\n",
            "Epoch 1/50\n",
            "215/215 [==============================] - 1s 3ms/step - loss: 0.0080 - acc: 0.0047 - val_loss: 0.0451 - val_acc: 0.0833\n",
            "Epoch 2/50\n",
            "215/215 [==============================] - 1s 3ms/step - loss: 0.0075 - acc: 0.0047 - val_loss: 0.0426 - val_acc: 0.0833\n",
            "Epoch 3/50\n",
            "215/215 [==============================] - 1s 3ms/step - loss: 0.0074 - acc: 0.0047 - val_loss: 0.0394 - val_acc: 0.0833\n",
            "Epoch 4/50\n",
            "215/215 [==============================] - 1s 4ms/step - loss: 0.0075 - acc: 0.0047 - val_loss: 0.0360 - val_acc: 0.0833\n",
            "Epoch 5/50\n",
            "215/215 [==============================] - 1s 4ms/step - loss: 0.0068 - acc: 0.0047 - val_loss: 0.0373 - val_acc: 0.0833\n",
            "Epoch 6/50\n",
            "215/215 [==============================] - 1s 4ms/step - loss: 0.0068 - acc: 0.0047 - val_loss: 0.0330 - val_acc: 0.0833\n",
            "Epoch 7/50\n",
            "215/215 [==============================] - 1s 4ms/step - loss: 0.0072 - acc: 0.0047 - val_loss: 0.0367 - val_acc: 0.0833\n",
            "Epoch 8/50\n",
            "215/215 [==============================] - 1s 4ms/step - loss: 0.0071 - acc: 0.0047 - val_loss: 0.0322 - val_acc: 0.0833\n",
            "Epoch 9/50\n",
            "215/215 [==============================] - 1s 4ms/step - loss: 0.0073 - acc: 0.0047 - val_loss: 0.0394 - val_acc: 0.0833\n",
            "Epoch 10/50\n",
            "215/215 [==============================] - 1s 4ms/step - loss: 0.0079 - acc: 0.0047 - val_loss: 0.0344 - val_acc: 0.0833\n",
            "Epoch 11/50\n",
            "215/215 [==============================] - 1s 4ms/step - loss: 0.0085 - acc: 0.0047 - val_loss: 0.0302 - val_acc: 0.0833\n",
            "Epoch 12/50\n",
            "215/215 [==============================] - 1s 4ms/step - loss: 0.0077 - acc: 0.0047 - val_loss: 0.0458 - val_acc: 0.0833\n",
            "Epoch 13/50\n",
            "215/215 [==============================] - 1s 4ms/step - loss: 0.0072 - acc: 0.0047 - val_loss: 0.0276 - val_acc: 0.0833\n",
            "Epoch 14/50\n",
            "215/215 [==============================] - 1s 4ms/step - loss: 0.0080 - acc: 0.0047 - val_loss: 0.0326 - val_acc: 0.0833\n",
            "Epoch 15/50\n",
            "215/215 [==============================] - 1s 4ms/step - loss: 0.0065 - acc: 0.0047 - val_loss: 0.0412 - val_acc: 0.0833\n",
            "Epoch 16/50\n",
            "215/215 [==============================] - 1s 4ms/step - loss: 0.0078 - acc: 0.0047 - val_loss: 0.0276 - val_acc: 0.0833\n",
            "Epoch 17/50\n",
            "215/215 [==============================] - 1s 4ms/step - loss: 0.0076 - acc: 0.0047 - val_loss: 0.0304 - val_acc: 0.0833\n",
            "Epoch 18/50\n",
            "215/215 [==============================] - 1s 4ms/step - loss: 0.0063 - acc: 0.0047 - val_loss: 0.0356 - val_acc: 0.0833\n",
            "Epoch 19/50\n",
            "215/215 [==============================] - 1s 4ms/step - loss: 0.0062 - acc: 0.0047 - val_loss: 0.0276 - val_acc: 0.0833\n",
            "Epoch 20/50\n",
            "215/215 [==============================] - 1s 4ms/step - loss: 0.0068 - acc: 0.0047 - val_loss: 0.0293 - val_acc: 0.0833\n",
            "Epoch 21/50\n",
            "215/215 [==============================] - 1s 4ms/step - loss: 0.0066 - acc: 0.0047 - val_loss: 0.0299 - val_acc: 0.0833\n",
            "Epoch 22/50\n",
            "215/215 [==============================] - 1s 4ms/step - loss: 0.0057 - acc: 0.0047 - val_loss: 0.0268 - val_acc: 0.0833\n",
            "Epoch 23/50\n",
            "215/215 [==============================] - 1s 4ms/step - loss: 0.0056 - acc: 0.0047 - val_loss: 0.0276 - val_acc: 0.0833\n",
            "Epoch 24/50\n",
            "215/215 [==============================] - 1s 4ms/step - loss: 0.0054 - acc: 0.0047 - val_loss: 0.0270 - val_acc: 0.0833\n",
            "Epoch 25/50\n",
            "215/215 [==============================] - 1s 4ms/step - loss: 0.0059 - acc: 0.0047 - val_loss: 0.0260 - val_acc: 0.0833\n",
            "Epoch 26/50\n",
            "215/215 [==============================] - 1s 4ms/step - loss: 0.0056 - acc: 0.0047 - val_loss: 0.0295 - val_acc: 0.0833\n",
            "Epoch 27/50\n",
            "215/215 [==============================] - 1s 4ms/step - loss: 0.0060 - acc: 0.0047 - val_loss: 0.0231 - val_acc: 0.0833\n",
            "Epoch 28/50\n",
            "215/215 [==============================] - 1s 4ms/step - loss: 0.0057 - acc: 0.0047 - val_loss: 0.0252 - val_acc: 0.0833\n",
            "Epoch 29/50\n",
            "215/215 [==============================] - 1s 4ms/step - loss: 0.0058 - acc: 0.0047 - val_loss: 0.0232 - val_acc: 0.0833\n",
            "Epoch 30/50\n",
            "215/215 [==============================] - 1s 4ms/step - loss: 0.0057 - acc: 0.0047 - val_loss: 0.0217 - val_acc: 0.0833\n",
            "Epoch 31/50\n",
            "215/215 [==============================] - 1s 4ms/step - loss: 0.0055 - acc: 0.0047 - val_loss: 0.0214 - val_acc: 0.0833\n",
            "Epoch 32/50\n",
            "215/215 [==============================] - 1s 4ms/step - loss: 0.0053 - acc: 0.0047 - val_loss: 0.0202 - val_acc: 0.0833\n",
            "Epoch 33/50\n",
            "215/215 [==============================] - 1s 4ms/step - loss: 0.0054 - acc: 0.0047 - val_loss: 0.0218 - val_acc: 0.0833\n",
            "Epoch 34/50\n",
            "215/215 [==============================] - 1s 4ms/step - loss: 0.0057 - acc: 0.0047 - val_loss: 0.0196 - val_acc: 0.0833\n",
            "Epoch 35/50\n",
            "215/215 [==============================] - 1s 4ms/step - loss: 0.0058 - acc: 0.0047 - val_loss: 0.0198 - val_acc: 0.0833\n",
            "Epoch 36/50\n",
            "215/215 [==============================] - 1s 4ms/step - loss: 0.0060 - acc: 0.0047 - val_loss: 0.0223 - val_acc: 0.0833\n",
            "Epoch 37/50\n",
            "215/215 [==============================] - 1s 4ms/step - loss: 0.0062 - acc: 0.0047 - val_loss: 0.0191 - val_acc: 0.0833\n",
            "Epoch 38/50\n",
            "215/215 [==============================] - 1s 4ms/step - loss: 0.0052 - acc: 0.0047 - val_loss: 0.0273 - val_acc: 0.0833\n",
            "Epoch 39/50\n",
            "215/215 [==============================] - 1s 4ms/step - loss: 0.0057 - acc: 0.0047 - val_loss: 0.0203 - val_acc: 0.0833\n",
            "Epoch 40/50\n",
            "215/215 [==============================] - 1s 4ms/step - loss: 0.0048 - acc: 0.0047 - val_loss: 0.0196 - val_acc: 0.0833\n",
            "Epoch 41/50\n",
            "215/215 [==============================] - 1s 4ms/step - loss: 0.0047 - acc: 0.0047 - val_loss: 0.0220 - val_acc: 0.0833\n",
            "Epoch 42/50\n",
            "215/215 [==============================] - 1s 4ms/step - loss: 0.0051 - acc: 0.0047 - val_loss: 0.0197 - val_acc: 0.0833\n",
            "Epoch 43/50\n",
            "215/215 [==============================] - 1s 4ms/step - loss: 0.0056 - acc: 0.0047 - val_loss: 0.0195 - val_acc: 0.0833\n",
            "Epoch 44/50\n",
            "215/215 [==============================] - 1s 4ms/step - loss: 0.0048 - acc: 0.0047 - val_loss: 0.0204 - val_acc: 0.0833\n",
            "Epoch 45/50\n",
            "215/215 [==============================] - 1s 4ms/step - loss: 0.0049 - acc: 0.0047 - val_loss: 0.0183 - val_acc: 0.0833\n",
            "Epoch 46/50\n",
            "215/215 [==============================] - 1s 4ms/step - loss: 0.0047 - acc: 0.0047 - val_loss: 0.0198 - val_acc: 0.0833\n",
            "Epoch 47/50\n",
            "215/215 [==============================] - 1s 4ms/step - loss: 0.0050 - acc: 0.0047 - val_loss: 0.0176 - val_acc: 0.0833\n",
            "Epoch 48/50\n",
            "215/215 [==============================] - 1s 4ms/step - loss: 0.0051 - acc: 0.0047 - val_loss: 0.0176 - val_acc: 0.0833\n",
            "Epoch 49/50\n",
            "215/215 [==============================] - 1s 4ms/step - loss: 0.0052 - acc: 0.0047 - val_loss: 0.0184 - val_acc: 0.0833\n",
            "Epoch 50/50\n",
            "215/215 [==============================] - 1s 4ms/step - loss: 0.0046 - acc: 0.0047 - val_loss: 0.0164 - val_acc: 0.0833\n"
          ],
          "name": "stdout"
        },
        {
          "output_type": "execute_result",
          "data": {
            "text/plain": [
              "<keras.callbacks.History at 0x7f7ba09cbeb8>"
            ]
          },
          "metadata": {
            "tags": []
          },
          "execution_count": 29
        }
      ]
    },
    {
      "cell_type": "code",
      "metadata": {
        "id": "biBEk1AQ_okd",
        "colab_type": "code",
        "colab": {}
      },
      "source": [
        ""
      ],
      "execution_count": 0,
      "outputs": []
    }
  ]
}