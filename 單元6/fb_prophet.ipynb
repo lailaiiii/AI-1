{
  "nbformat": 4,
  "nbformat_minor": 0,
  "metadata": {
    "colab": {
      "name": "fb_prophet.ipynb",
      "provenance": [],
      "include_colab_link": true
    },
    "kernelspec": {
      "name": "python3",
      "display_name": "Python 3"
    }
  },
  "cells": [
    {
      "cell_type": "markdown",
      "metadata": {
        "id": "view-in-github",
        "colab_type": "text"
      },
      "source": [
        "<a href=\"https://colab.research.google.com/github/tewei0328/AI/blob/master/%E5%96%AE%E5%85%836/fb_prophet.ipynb\" target=\"_parent\"><img src=\"https://colab.research.google.com/assets/colab-badge.svg\" alt=\"Open In Colab\"/></a>"
      ]
    },
    {
      "cell_type": "code",
      "metadata": {
        "id": "lTaLRXVHq8u5",
        "colab_type": "code",
        "colab": {}
      },
      "source": [
        "import pandas as pd"
      ],
      "execution_count": 0,
      "outputs": []
    },
    {
      "cell_type": "code",
      "metadata": {
        "id": "kFTocCz9q82h",
        "colab_type": "code",
        "colab": {}
      },
      "source": [
        "df=pd.read_csv('TSEA_day_1223.csv',index_col,parse_dates=['date'])"
      ],
      "execution_count": 0,
      "outputs": []
    },
    {
      "cell_type": "code",
      "metadata": {
        "id": "limTti5nrZzq",
        "colab_type": "code",
        "colab": {
          "base_uri": "https://localhost:8080/",
          "height": 203
        },
        "outputId": "53584b5c-e9d0-4166-dac9-c3423fc3eb04"
      },
      "source": [
        "df.head()"
      ],
      "execution_count": 10,
      "outputs": [
        {
          "output_type": "execute_result",
          "data": {
            "text/html": [
              "<div>\n",
              "<style scoped>\n",
              "    .dataframe tbody tr th:only-of-type {\n",
              "        vertical-align: middle;\n",
              "    }\n",
              "\n",
              "    .dataframe tbody tr th {\n",
              "        vertical-align: top;\n",
              "    }\n",
              "\n",
              "    .dataframe thead th {\n",
              "        text-align: right;\n",
              "    }\n",
              "</style>\n",
              "<table border=\"1\" class=\"dataframe\">\n",
              "  <thead>\n",
              "    <tr style=\"text-align: right;\">\n",
              "      <th></th>\n",
              "      <th>date</th>\n",
              "      <th>open</th>\n",
              "      <th>high</th>\n",
              "      <th>low</th>\n",
              "      <th>close</th>\n",
              "    </tr>\n",
              "  </thead>\n",
              "  <tbody>\n",
              "    <tr>\n",
              "      <th>0</th>\n",
              "      <td>2019-12-23</td>\n",
              "      <td>11969.13965</td>\n",
              "      <td>12022.23047</td>\n",
              "      <td>11960.20996</td>\n",
              "      <td>12022.23047</td>\n",
              "    </tr>\n",
              "    <tr>\n",
              "      <th>1</th>\n",
              "      <td>2019-12-20</td>\n",
              "      <td>12001.55957</td>\n",
              "      <td>12028.21973</td>\n",
              "      <td>11937.45020</td>\n",
              "      <td>11959.08008</td>\n",
              "    </tr>\n",
              "    <tr>\n",
              "      <th>2</th>\n",
              "      <td>2019-12-19</td>\n",
              "      <td>12082.98047</td>\n",
              "      <td>12111.76953</td>\n",
              "      <td>12008.16016</td>\n",
              "      <td>12018.90039</td>\n",
              "    </tr>\n",
              "    <tr>\n",
              "      <th>3</th>\n",
              "      <td>2019-12-18</td>\n",
              "      <td>12061.09961</td>\n",
              "      <td>12125.90039</td>\n",
              "      <td>12059.91992</td>\n",
              "      <td>12122.45020</td>\n",
              "    </tr>\n",
              "    <tr>\n",
              "      <th>4</th>\n",
              "      <td>2019-12-17</td>\n",
              "      <td>11939.62012</td>\n",
              "      <td>12097.00977</td>\n",
              "      <td>11939.62012</td>\n",
              "      <td>12097.00977</td>\n",
              "    </tr>\n",
              "  </tbody>\n",
              "</table>\n",
              "</div>"
            ],
            "text/plain": [
              "        date         open         high          low        close\n",
              "0 2019-12-23  11969.13965  12022.23047  11960.20996  12022.23047\n",
              "1 2019-12-20  12001.55957  12028.21973  11937.45020  11959.08008\n",
              "2 2019-12-19  12082.98047  12111.76953  12008.16016  12018.90039\n",
              "3 2019-12-18  12061.09961  12125.90039  12059.91992  12122.45020\n",
              "4 2019-12-17  11939.62012  12097.00977  11939.62012  12097.00977"
            ]
          },
          "metadata": {
            "tags": []
          },
          "execution_count": 10
        }
      ]
    },
    {
      "cell_type": "code",
      "metadata": {
        "id": "qNR9kwsOq8z7",
        "colab_type": "code",
        "colab": {}
      },
      "source": [
        ""
      ],
      "execution_count": 0,
      "outputs": []
    }
  ]
}