{
  "nbformat": 4,
  "nbformat_minor": 0,
  "metadata": {
    "colab": {
      "name": "DATA-pandas read-stockprice.ipynb",
      "provenance": [],
      "include_colab_link": true
    },
    "kernelspec": {
      "name": "python3",
      "display_name": "Python 3"
    }
  },
  "cells": [
    {
      "cell_type": "markdown",
      "metadata": {
        "id": "view-in-github",
        "colab_type": "text"
      },
      "source": [
        "<a href=\"https://colab.research.google.com/github/tewei0328/AI/blob/master/%E5%96%AE%E5%85%832%5CDATA_pandas_read_stockprice.ipynb\" target=\"_parent\"><img src=\"https://colab.research.google.com/assets/colab-badge.svg\" alt=\"Open In Colab\"/></a>"
      ]
    },
    {
      "cell_type": "code",
      "metadata": {
        "id": "T3aKEnR7jWsJ",
        "colab_type": "code",
        "colab": {}
      },
      "source": [
        "import pandas as pd"
      ],
      "execution_count": 0,
      "outputs": []
    },
    {
      "cell_type": "code",
      "metadata": {
        "id": "NGLgCcBtjmpu",
        "colab_type": "code",
        "colab": {}
      },
      "source": [
        "df=pd.read_csv('https://raw.githubusercontent.com/tewei0328/AI/master/data/TX11_day.csv')"
      ],
      "execution_count": 0,
      "outputs": []
    },
    {
      "cell_type": "code",
      "metadata": {
        "id": "5fZaCSq5jq88",
        "colab_type": "code",
        "colab": {
          "base_uri": "https://localhost:8080/",
          "height": 204
        },
        "outputId": "86cad7fe-e30d-495e-ec3d-fa194364c3c4"
      },
      "source": [
        "df.head()"
      ],
      "execution_count": 4,
      "outputs": [
        {
          "output_type": "execute_result",
          "data": {
            "text/html": [
              "<div>\n",
              "<style scoped>\n",
              "    .dataframe tbody tr th:only-of-type {\n",
              "        vertical-align: middle;\n",
              "    }\n",
              "\n",
              "    .dataframe tbody tr th {\n",
              "        vertical-align: top;\n",
              "    }\n",
              "\n",
              "    .dataframe thead th {\n",
              "        text-align: right;\n",
              "    }\n",
              "</style>\n",
              "<table border=\"1\" class=\"dataframe\">\n",
              "  <thead>\n",
              "    <tr style=\"text-align: right;\">\n",
              "      <th></th>\n",
              "      <th>date</th>\n",
              "      <th>open</th>\n",
              "      <th>high</th>\n",
              "      <th>low</th>\n",
              "      <th>close</th>\n",
              "    </tr>\n",
              "  </thead>\n",
              "  <tbody>\n",
              "    <tr>\n",
              "      <th>0</th>\n",
              "      <td>2019/10/18</td>\n",
              "      <td>11166</td>\n",
              "      <td>11245</td>\n",
              "      <td>11132</td>\n",
              "      <td>11149</td>\n",
              "    </tr>\n",
              "    <tr>\n",
              "      <th>1</th>\n",
              "      <td>2019/10/17</td>\n",
              "      <td>11131</td>\n",
              "      <td>11166</td>\n",
              "      <td>11098</td>\n",
              "      <td>11158</td>\n",
              "    </tr>\n",
              "    <tr>\n",
              "      <th>2</th>\n",
              "      <td>2019/10/16</td>\n",
              "      <td>11097</td>\n",
              "      <td>11147</td>\n",
              "      <td>11088</td>\n",
              "      <td>11131</td>\n",
              "    </tr>\n",
              "    <tr>\n",
              "      <th>3</th>\n",
              "      <td>2019/10/15</td>\n",
              "      <td>11053</td>\n",
              "      <td>11098</td>\n",
              "      <td>11030</td>\n",
              "      <td>11087</td>\n",
              "    </tr>\n",
              "    <tr>\n",
              "      <th>4</th>\n",
              "      <td>2019/10/14</td>\n",
              "      <td>10862</td>\n",
              "      <td>11068</td>\n",
              "      <td>10758</td>\n",
              "      <td>11056</td>\n",
              "    </tr>\n",
              "  </tbody>\n",
              "</table>\n",
              "</div>"
            ],
            "text/plain": [
              "         date   open   high    low  close\n",
              "0  2019/10/18  11166  11245  11132  11149\n",
              "1  2019/10/17  11131  11166  11098  11158\n",
              "2  2019/10/16  11097  11147  11088  11131\n",
              "3  2019/10/15  11053  11098  11030  11087\n",
              "4  2019/10/14  10862  11068  10758  11056"
            ]
          },
          "metadata": {
            "tags": []
          },
          "execution_count": 4
        }
      ]
    },
    {
      "cell_type": "code",
      "metadata": {
        "id": "bH-eeb_MjthF",
        "colab_type": "code",
        "colab": {}
      },
      "source": [
        ""
      ],
      "execution_count": 0,
      "outputs": []
    }
  ]
}