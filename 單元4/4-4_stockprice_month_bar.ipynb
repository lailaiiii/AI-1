{
  "nbformat": 4,
  "nbformat_minor": 0,
  "metadata": {
    "colab": {
      "name": "DATA_VIZ_github_wget_clone_stockprice3_month.ipynb",
      "provenance": [],
      "toc_visible": true,
      "include_colab_link": true
    },
    "kernelspec": {
      "name": "python3",
      "display_name": "Python 3"
    }
  },
  "cells": [
    {
      "cell_type": "markdown",
      "metadata": {
        "id": "view-in-github",
        "colab_type": "text"
      },
      "source": [
        "<a href=\"https://colab.research.google.com/github/tewei0328/AI/blob/master/%E5%96%AE%E5%85%834/4-4_stockprice_month_bar.ipynb\" target=\"_parent\"><img src=\"https://colab.research.google.com/assets/colab-badge.svg\" alt=\"Open In Colab\"/></a>"
      ]
    },
    {
      "cell_type": "markdown",
      "metadata": {
        "id": "BkZ1PQtd0-rh",
        "colab_type": "text"
      },
      "source": [
        "# 1.使用wget, 至github下載單一檔案"
      ]
    },
    {
      "cell_type": "code",
      "metadata": {
        "id": "t_DZJVBDw-43",
        "colab_type": "code",
        "outputId": "b091e80b-3956-4955-a5c2-1e0dc5d55e29",
        "colab": {
          "base_uri": "https://localhost:8080/",
          "height": 204
        }
      },
      "source": [
        "!wget https://raw.githubusercontent.com/tewei0328/AI/master/data/TX11_month.csv"
      ],
      "execution_count": 0,
      "outputs": [
        {
          "output_type": "stream",
          "text": [
            "--2019-10-22 06:00:22--  https://raw.githubusercontent.com/tewei0328/AI/master/data/TX11_month.csv\n",
            "Resolving raw.githubusercontent.com (raw.githubusercontent.com)... 151.101.0.133, 151.101.64.133, 151.101.128.133, ...\n",
            "Connecting to raw.githubusercontent.com (raw.githubusercontent.com)|151.101.0.133|:443... connected.\n",
            "HTTP request sent, awaiting response... 200 OK\n",
            "Length: 1950 (1.9K) [text/plain]\n",
            "Saving to: ‘TX11_month.csv’\n",
            "\n",
            "\rTX11_month.csv        0%[                    ]       0  --.-KB/s               \rTX11_month.csv      100%[===================>]   1.90K  --.-KB/s    in 0s      \n",
            "\n",
            "2019-10-22 06:00:23 (25.3 MB/s) - ‘TX11_month.csv’ saved [1950/1950]\n",
            "\n"
          ],
          "name": "stdout"
        }
      ]
    },
    {
      "cell_type": "code",
      "metadata": {
        "id": "ezw53pTu20Q3",
        "colab_type": "code",
        "colab": {}
      },
      "source": [
        "import pandas as pd"
      ],
      "execution_count": 0,
      "outputs": []
    },
    {
      "cell_type": "code",
      "metadata": {
        "id": "rEwDWOm5DavL",
        "colab_type": "code",
        "colab": {}
      },
      "source": [
        "df=pd.read_csv('TX11_month.csv', index_col='date', parse_dates=['date'])"
      ],
      "execution_count": 0,
      "outputs": []
    },
    {
      "cell_type": "code",
      "metadata": {
        "id": "NvTa7ajF98Yh",
        "colab_type": "code",
        "colab": {}
      },
      "source": [
        "df3=pd.read_csv('TX11_month.csv', parse_dates=['date'])"
      ],
      "execution_count": 0,
      "outputs": []
    },
    {
      "cell_type": "code",
      "metadata": {
        "id": "HmaiSY07R3e7",
        "colab_type": "code",
        "outputId": "591364eb-8c16-44d2-972f-7b8c0e036984",
        "colab": {
          "base_uri": "https://localhost:8080/",
          "height": 34
        }
      },
      "source": [
        "df.shape"
      ],
      "execution_count": 0,
      "outputs": [
        {
          "output_type": "execute_result",
          "data": {
            "text/plain": [
              "(61, 5)"
            ]
          },
          "metadata": {
            "tags": []
          },
          "execution_count": 3
        }
      ]
    },
    {
      "cell_type": "code",
      "metadata": {
        "id": "otN7b0wN-TI1",
        "colab_type": "code",
        "outputId": "f314e78d-64fa-4862-d306-8c0027c84849",
        "colab": {
          "base_uri": "https://localhost:8080/",
          "height": 34
        }
      },
      "source": [
        "type(df3['date'][0])"
      ],
      "execution_count": 0,
      "outputs": [
        {
          "output_type": "execute_result",
          "data": {
            "text/plain": [
              "pandas._libs.tslibs.timestamps.Timestamp"
            ]
          },
          "metadata": {
            "tags": []
          },
          "execution_count": 29
        }
      ]
    },
    {
      "cell_type": "code",
      "metadata": {
        "id": "zuF8SC8K7KI-",
        "colab_type": "code",
        "colab": {}
      },
      "source": [
        "df2=df[::-1]"
      ],
      "execution_count": 0,
      "outputs": []
    },
    {
      "cell_type": "code",
      "metadata": {
        "id": "mvPq6DPj7RS_",
        "colab_type": "code",
        "outputId": "de0cadd3-4b20-41c4-91f4-8eadc594797d",
        "colab": {
          "base_uri": "https://localhost:8080/",
          "height": 225
        }
      },
      "source": [
        "df2.head()"
      ],
      "execution_count": 0,
      "outputs": [
        {
          "output_type": "execute_result",
          "data": {
            "text/html": [
              "<div>\n",
              "<style scoped>\n",
              "    .dataframe tbody tr th:only-of-type {\n",
              "        vertical-align: middle;\n",
              "    }\n",
              "\n",
              "    .dataframe tbody tr th {\n",
              "        vertical-align: top;\n",
              "    }\n",
              "\n",
              "    .dataframe thead th {\n",
              "        text-align: right;\n",
              "    }\n",
              "</style>\n",
              "<table border=\"1\" class=\"dataframe\">\n",
              "  <thead>\n",
              "    <tr style=\"text-align: right;\">\n",
              "      <th></th>\n",
              "      <th>open</th>\n",
              "      <th>high</th>\n",
              "      <th>low</th>\n",
              "      <th>close</th>\n",
              "    </tr>\n",
              "    <tr>\n",
              "      <th>date</th>\n",
              "      <th></th>\n",
              "      <th></th>\n",
              "      <th></th>\n",
              "      <th></th>\n",
              "    </tr>\n",
              "  </thead>\n",
              "  <tbody>\n",
              "    <tr>\n",
              "      <th>2000-09-21</th>\n",
              "      <td>6934</td>\n",
              "      <td>7020</td>\n",
              "      <td>6256</td>\n",
              "      <td>6280</td>\n",
              "    </tr>\n",
              "    <tr>\n",
              "      <th>2000-10-02</th>\n",
              "      <td>6360</td>\n",
              "      <td>6563</td>\n",
              "      <td>4983</td>\n",
              "      <td>5555</td>\n",
              "    </tr>\n",
              "    <tr>\n",
              "      <th>2000-11-01</th>\n",
              "      <td>5645</td>\n",
              "      <td>6309</td>\n",
              "      <td>5401</td>\n",
              "      <td>5830</td>\n",
              "    </tr>\n",
              "    <tr>\n",
              "      <th>2001-09-21</th>\n",
              "      <td>3670</td>\n",
              "      <td>3670</td>\n",
              "      <td>3347</td>\n",
              "      <td>3615</td>\n",
              "    </tr>\n",
              "    <tr>\n",
              "      <th>2001-10-02</th>\n",
              "      <td>3615</td>\n",
              "      <td>4054</td>\n",
              "      <td>3401</td>\n",
              "      <td>3866</td>\n",
              "    </tr>\n",
              "  </tbody>\n",
              "</table>\n",
              "</div>"
            ],
            "text/plain": [
              "            open  high   low  close\n",
              "date                               \n",
              "2000-09-21  6934  7020  6256   6280\n",
              "2000-10-02  6360  6563  4983   5555\n",
              "2000-11-01  5645  6309  5401   5830\n",
              "2001-09-21  3670  3670  3347   3615\n",
              "2001-10-02  3615  4054  3401   3866"
            ]
          },
          "metadata": {
            "tags": []
          },
          "execution_count": 6
        }
      ]
    },
    {
      "cell_type": "code",
      "metadata": {
        "id": "qCT5s7Lv7Whc",
        "colab_type": "code",
        "outputId": "1b418876-b5d9-4290-f187-ef4e636bd869",
        "colab": {
          "base_uri": "https://localhost:8080/",
          "height": 290
        }
      },
      "source": [
        "df2.plot()"
      ],
      "execution_count": 0,
      "outputs": [
        {
          "output_type": "execute_result",
          "data": {
            "text/plain": [
              "<matplotlib.axes._subplots.AxesSubplot at 0x7feb1671f9e8>"
            ]
          },
          "metadata": {
            "tags": []
          },
          "execution_count": 7
        },
        {
          "output_type": "display_data",
          "data": {
            "image/png": "[encoded data removed]",
            "text/plain": [
              "<Figure size 432x288 with 1 Axes>"
            ]
          },
          "metadata": {
            "tags": []
          }
        }
      ]
    },
    {
      "cell_type": "code",
      "metadata": {
        "id": "lkcLU32M7itw",
        "colab_type": "code",
        "outputId": "be0dbaba-0cfc-4789-a3fe-898231f0f41b",
        "colab": {
          "base_uri": "https://localhost:8080/",
          "height": 225
        }
      },
      "source": [
        "df.head()"
      ],
      "execution_count": 0,
      "outputs": [
        {
          "output_type": "execute_result",
          "data": {
            "text/html": [
              "<div>\n",
              "<style scoped>\n",
              "    .dataframe tbody tr th:only-of-type {\n",
              "        vertical-align: middle;\n",
              "    }\n",
              "\n",
              "    .dataframe tbody tr th {\n",
              "        vertical-align: top;\n",
              "    }\n",
              "\n",
              "    .dataframe thead th {\n",
              "        text-align: right;\n",
              "    }\n",
              "</style>\n",
              "<table border=\"1\" class=\"dataframe\">\n",
              "  <thead>\n",
              "    <tr style=\"text-align: right;\">\n",
              "      <th></th>\n",
              "      <th>open</th>\n",
              "      <th>high</th>\n",
              "      <th>low</th>\n",
              "      <th>close</th>\n",
              "    </tr>\n",
              "    <tr>\n",
              "      <th>date</th>\n",
              "      <th></th>\n",
              "      <th></th>\n",
              "      <th></th>\n",
              "      <th></th>\n",
              "    </tr>\n",
              "  </thead>\n",
              "  <tbody>\n",
              "    <tr>\n",
              "      <th>2019-10-01</th>\n",
              "      <td>10819</td>\n",
              "      <td>11245</td>\n",
              "      <td>10753</td>\n",
              "      <td>11149</td>\n",
              "    </tr>\n",
              "    <tr>\n",
              "      <th>2019-09-02</th>\n",
              "      <td>10519</td>\n",
              "      <td>10920</td>\n",
              "      <td>10478</td>\n",
              "      <td>10805</td>\n",
              "    </tr>\n",
              "    <tr>\n",
              "      <th>2019-08-22</th>\n",
              "      <td>10496</td>\n",
              "      <td>10532</td>\n",
              "      <td>10251</td>\n",
              "      <td>10530</td>\n",
              "    </tr>\n",
              "    <tr>\n",
              "      <th>2018-11-01</th>\n",
              "      <td>9721</td>\n",
              "      <td>10000</td>\n",
              "      <td>9528</td>\n",
              "      <td>9743</td>\n",
              "    </tr>\n",
              "    <tr>\n",
              "      <th>2018-10-01</th>\n",
              "      <td>10942</td>\n",
              "      <td>11008</td>\n",
              "      <td>9326</td>\n",
              "      <td>9725</td>\n",
              "    </tr>\n",
              "  </tbody>\n",
              "</table>\n",
              "</div>"
            ],
            "text/plain": [
              "             open   high    low  close\n",
              "date                                  \n",
              "2019-10-01  10819  11245  10753  11149\n",
              "2019-09-02  10519  10920  10478  10805\n",
              "2019-08-22  10496  10532  10251  10530\n",
              "2018-11-01   9721  10000   9528   9743\n",
              "2018-10-01  10942  11008   9326   9725"
            ]
          },
          "metadata": {
            "tags": []
          },
          "execution_count": 8
        }
      ]
    },
    {
      "cell_type": "markdown",
      "metadata": {
        "id": "JMsZI5me1aW7",
        "colab_type": "text"
      },
      "source": [
        "# 2.使用apply, 對Dataframe進行算數運算"
      ]
    },
    {
      "cell_type": "code",
      "metadata": {
        "id": "GyI6Rs9E-UTw",
        "colab_type": "code",
        "colab": {}
      },
      "source": [
        "df1=df2.copy()  "
      ],
      "execution_count": 0,
      "outputs": []
    },
    {
      "cell_type": "code",
      "metadata": {
        "id": "eP0rfwsW2bb4",
        "colab_type": "code",
        "colab": {}
      },
      "source": [
        "#df1['open'] = df1.apply(lambda x: x['open'] - x['open'], axis=1)\n",
        "df1['high'] = df1.apply(lambda x: x['high'] - x['open'], axis=1)\n",
        "df1['low'] = df1.apply(lambda x: x['low'] - x['open'], axis=1)\n",
        "df1['close'] = df1.apply(lambda x: x['close'] - x['open'], axis=1)\n",
        "df1['open'] = df1.apply(lambda x: 0, axis=1)"
      ],
      "execution_count": 0,
      "outputs": []
    },
    {
      "cell_type": "code",
      "metadata": {
        "id": "iZ9cTvMk3EVm",
        "colab_type": "code",
        "outputId": "a6df1059-82b3-4094-de5f-cf58bf61778c",
        "colab": {
          "base_uri": "https://localhost:8080/",
          "height": 225
        }
      },
      "source": [
        "df1.head()"
      ],
      "execution_count": 0,
      "outputs": [
        {
          "output_type": "execute_result",
          "data": {
            "text/html": [
              "<div>\n",
              "<style scoped>\n",
              "    .dataframe tbody tr th:only-of-type {\n",
              "        vertical-align: middle;\n",
              "    }\n",
              "\n",
              "    .dataframe tbody tr th {\n",
              "        vertical-align: top;\n",
              "    }\n",
              "\n",
              "    .dataframe thead th {\n",
              "        text-align: right;\n",
              "    }\n",
              "</style>\n",
              "<table border=\"1\" class=\"dataframe\">\n",
              "  <thead>\n",
              "    <tr style=\"text-align: right;\">\n",
              "      <th></th>\n",
              "      <th>open</th>\n",
              "      <th>high</th>\n",
              "      <th>low</th>\n",
              "      <th>close</th>\n",
              "    </tr>\n",
              "    <tr>\n",
              "      <th>date</th>\n",
              "      <th></th>\n",
              "      <th></th>\n",
              "      <th></th>\n",
              "      <th></th>\n",
              "    </tr>\n",
              "  </thead>\n",
              "  <tbody>\n",
              "    <tr>\n",
              "      <th>2000-09-21</th>\n",
              "      <td>0</td>\n",
              "      <td>86</td>\n",
              "      <td>-678</td>\n",
              "      <td>-654</td>\n",
              "    </tr>\n",
              "    <tr>\n",
              "      <th>2000-10-02</th>\n",
              "      <td>0</td>\n",
              "      <td>203</td>\n",
              "      <td>-1377</td>\n",
              "      <td>-805</td>\n",
              "    </tr>\n",
              "    <tr>\n",
              "      <th>2000-11-01</th>\n",
              "      <td>0</td>\n",
              "      <td>664</td>\n",
              "      <td>-244</td>\n",
              "      <td>185</td>\n",
              "    </tr>\n",
              "    <tr>\n",
              "      <th>2001-09-21</th>\n",
              "      <td>0</td>\n",
              "      <td>0</td>\n",
              "      <td>-323</td>\n",
              "      <td>-55</td>\n",
              "    </tr>\n",
              "    <tr>\n",
              "      <th>2001-10-02</th>\n",
              "      <td>0</td>\n",
              "      <td>439</td>\n",
              "      <td>-214</td>\n",
              "      <td>251</td>\n",
              "    </tr>\n",
              "  </tbody>\n",
              "</table>\n",
              "</div>"
            ],
            "text/plain": [
              "            open  high   low  close\n",
              "date                               \n",
              "2000-09-21     0    86  -678   -654\n",
              "2000-10-02     0   203 -1377   -805\n",
              "2000-11-01     0   664  -244    185\n",
              "2001-09-21     0     0  -323    -55\n",
              "2001-10-02     0   439  -214    251"
            ]
          },
          "metadata": {
            "tags": []
          },
          "execution_count": 11
        }
      ]
    },
    {
      "cell_type": "code",
      "metadata": {
        "id": "PoYnz0IgR0Xx",
        "colab_type": "code",
        "outputId": "dfb040cf-ab5a-4ea2-b45f-f091ccec8db3",
        "colab": {
          "base_uri": "https://localhost:8080/",
          "height": 284
        }
      },
      "source": [
        "df1.describe()"
      ],
      "execution_count": 0,
      "outputs": [
        {
          "output_type": "execute_result",
          "data": {
            "text/html": [
              "<div>\n",
              "<style scoped>\n",
              "    .dataframe tbody tr th:only-of-type {\n",
              "        vertical-align: middle;\n",
              "    }\n",
              "\n",
              "    .dataframe tbody tr th {\n",
              "        vertical-align: top;\n",
              "    }\n",
              "\n",
              "    .dataframe thead th {\n",
              "        text-align: right;\n",
              "    }\n",
              "</style>\n",
              "<table border=\"1\" class=\"dataframe\">\n",
              "  <thead>\n",
              "    <tr style=\"text-align: right;\">\n",
              "      <th></th>\n",
              "      <th>open</th>\n",
              "      <th>high</th>\n",
              "      <th>low</th>\n",
              "      <th>close</th>\n",
              "    </tr>\n",
              "  </thead>\n",
              "  <tbody>\n",
              "    <tr>\n",
              "      <th>count</th>\n",
              "      <td>61.0</td>\n",
              "      <td>61.000000</td>\n",
              "      <td>61.000000</td>\n",
              "      <td>61.000000</td>\n",
              "    </tr>\n",
              "    <tr>\n",
              "      <th>mean</th>\n",
              "      <td>0.0</td>\n",
              "      <td>239.196721</td>\n",
              "      <td>-305.655738</td>\n",
              "      <td>-37.180328</td>\n",
              "    </tr>\n",
              "    <tr>\n",
              "      <th>std</th>\n",
              "      <td>0.0</td>\n",
              "      <td>214.423010</td>\n",
              "      <td>379.487105</td>\n",
              "      <td>397.552408</td>\n",
              "    </tr>\n",
              "    <tr>\n",
              "      <th>min</th>\n",
              "      <td>0.0</td>\n",
              "      <td>0.000000</td>\n",
              "      <td>-1807.000000</td>\n",
              "      <td>-1377.000000</td>\n",
              "    </tr>\n",
              "    <tr>\n",
              "      <th>25%</th>\n",
              "      <td>0.0</td>\n",
              "      <td>66.000000</td>\n",
              "      <td>-334.000000</td>\n",
              "      <td>-203.000000</td>\n",
              "    </tr>\n",
              "    <tr>\n",
              "      <th>50%</th>\n",
              "      <td>0.0</td>\n",
              "      <td>158.000000</td>\n",
              "      <td>-193.000000</td>\n",
              "      <td>-23.000000</td>\n",
              "    </tr>\n",
              "    <tr>\n",
              "      <th>75%</th>\n",
              "      <td>0.0</td>\n",
              "      <td>364.000000</td>\n",
              "      <td>-91.000000</td>\n",
              "      <td>248.000000</td>\n",
              "    </tr>\n",
              "    <tr>\n",
              "      <th>max</th>\n",
              "      <td>0.0</td>\n",
              "      <td>847.000000</td>\n",
              "      <td>-1.000000</td>\n",
              "      <td>682.000000</td>\n",
              "    </tr>\n",
              "  </tbody>\n",
              "</table>\n",
              "</div>"
            ],
            "text/plain": [
              "       open        high          low        close\n",
              "count  61.0   61.000000    61.000000    61.000000\n",
              "mean    0.0  239.196721  -305.655738   -37.180328\n",
              "std     0.0  214.423010   379.487105   397.552408\n",
              "min     0.0    0.000000 -1807.000000 -1377.000000\n",
              "25%     0.0   66.000000  -334.000000  -203.000000\n",
              "50%     0.0  158.000000  -193.000000   -23.000000\n",
              "75%     0.0  364.000000   -91.000000   248.000000\n",
              "max     0.0  847.000000    -1.000000   682.000000"
            ]
          },
          "metadata": {
            "tags": []
          },
          "execution_count": 12
        }
      ]
    },
    {
      "cell_type": "markdown",
      "metadata": {
        "id": "LN7Mfae_MPxD",
        "colab_type": "text"
      },
      "source": [
        "# 3.使用Pandas Plot進行繪圖"
      ]
    },
    {
      "cell_type": "code",
      "metadata": {
        "id": "JjOpZZMMG8Yt",
        "colab_type": "code",
        "outputId": "527b38ad-7631-4b8f-c1b8-2908047cbd8c",
        "colab": {
          "base_uri": "https://localhost:8080/",
          "height": 290
        }
      },
      "source": [
        "df.plot()"
      ],
      "execution_count": 0,
      "outputs": [
        {
          "output_type": "execute_result",
          "data": {
            "text/plain": [
              "<matplotlib.axes._subplots.AxesSubplot at 0x7feb16636da0>"
            ]
          },
          "metadata": {
            "tags": []
          },
          "execution_count": 13
        },
        {
          "output_type": "display_data",
          "data": {
            "image/png": "[encoded data removed]",
            "text/plain": [
              "<Figure size 432x288 with 1 Axes>"
            ]
          },
          "metadata": {
            "tags": []
          }
        }
      ]
    },
    {
      "cell_type": "code",
      "metadata": {
        "id": "DxJxe09dHGTi",
        "colab_type": "code",
        "outputId": "48236660-8d36-49fe-f920-91ab6ea6ac25",
        "colab": {
          "base_uri": "https://localhost:8080/",
          "height": 583
        }
      },
      "source": [
        "df.plot(figsize=(10,10))"
      ],
      "execution_count": 0,
      "outputs": [
        {
          "output_type": "execute_result",
          "data": {
            "text/plain": [
              "<matplotlib.axes._subplots.AxesSubplot at 0x7feb16636668>"
            ]
          },
          "metadata": {
            "tags": []
          },
          "execution_count": 14
        },
        {
          "output_type": "display_data",
          "data": {
            "image/png": "[encoded data removed]",
            "text/plain": [
              "<Figure size 720x720 with 1 Axes>"
            ]
          },
          "metadata": {
            "tags": []
          }
        }
      ]
    },
    {
      "cell_type": "code",
      "metadata": {
        "id": "12t4JcoS33N5",
        "colab_type": "code",
        "outputId": "46714b58-59eb-432b-de18-2030fad74964",
        "colab": {
          "base_uri": "https://localhost:8080/",
          "height": 290
        }
      },
      "source": [
        "df1.plot()"
      ],
      "execution_count": 0,
      "outputs": [
        {
          "output_type": "execute_result",
          "data": {
            "text/plain": [
              "<matplotlib.axes._subplots.AxesSubplot at 0x7feb13cdad68>"
            ]
          },
          "metadata": {
            "tags": []
          },
          "execution_count": 15
        },
        {
          "output_type": "display_data",
          "data": {
            "image/png": "[encoded data removed]",
            "text/plain": [
              "<Figure size 432x288 with 1 Axes>"
            ]
          },
          "metadata": {
            "tags": []
          }
        }
      ]
    },
    {
      "cell_type": "code",
      "metadata": {
        "id": "esQl6KID4O0n",
        "colab_type": "code",
        "outputId": "0aac04d9-f63e-4646-c77e-93875e0e33cd",
        "colab": {
          "base_uri": "https://localhost:8080/",
          "height": 583
        }
      },
      "source": [
        "df1.plot(figsize=(10,10))"
      ],
      "execution_count": 0,
      "outputs": [
        {
          "output_type": "execute_result",
          "data": {
            "text/plain": [
              "<matplotlib.axes._subplots.AxesSubplot at 0x7feb12454f60>"
            ]
          },
          "metadata": {
            "tags": []
          },
          "execution_count": 16
        },
        {
          "output_type": "display_data",
          "data": {
            "image/png": "[encoded data removed]",
            "text/plain": [
              "<Figure size 720x720 with 1 Axes>"
            ]
          },
          "metadata": {
            "tags": []
          }
        }
      ]
    },
    {
      "cell_type": "markdown",
      "metadata": {
        "id": "Xo13b2A7McZe",
        "colab_type": "text"
      },
      "source": [
        "# 4.使用Pandas Bar進行繪圖"
      ]
    },
    {
      "cell_type": "code",
      "metadata": {
        "id": "ZOGbnepLNduj",
        "colab_type": "code",
        "outputId": "1a3d8f94-a6b4-4f1d-e8c0-fc69c0f030f8",
        "colab": {
          "base_uri": "https://localhost:8080/",
          "height": 395
        }
      },
      "source": [
        "df1.plot.bar()"
      ],
      "execution_count": 0,
      "outputs": [
        {
          "output_type": "execute_result",
          "data": {
            "text/plain": [
              "<matplotlib.axes._subplots.AxesSubplot at 0x7feb123b7470>"
            ]
          },
          "metadata": {
            "tags": []
          },
          "execution_count": 17
        },
        {
          "output_type": "display_data",
          "data": {
            "image/png": "[encoded data removed]",
            "text/plain": [
              "<Figure size 432x288 with 1 Axes>"
            ]
          },
          "metadata": {
            "tags": []
          }
        }
      ]
    },
    {
      "cell_type": "code",
      "metadata": {
        "id": "rDBGhFhpNq9i",
        "colab_type": "code",
        "outputId": "93972ec4-4fcb-44bf-ed83-de8093e6ec55",
        "colab": {
          "base_uri": "https://localhost:8080/",
          "height": 165
        }
      },
      "source": [
        "df1.plot.bar(figsize=(10,10))"
      ],
      "execution_count": 0,
      "outputs": [
        {
          "output_type": "error",
          "ename": "NameError",
          "evalue": "ignored",
          "traceback": [
            "\u001b[0;31m---------------------------------------------------------------------------\u001b[0m",
            "\u001b[0;31mNameError\u001b[0m                                 Traceback (most recent call last)",
            "\u001b[0;32m<ipython-input-4-b6495d2315ee>\u001b[0m in \u001b[0;36m<module>\u001b[0;34m()\u001b[0m\n\u001b[0;32m----> 1\u001b[0;31m \u001b[0mdf1\u001b[0m\u001b[0;34m.\u001b[0m\u001b[0mplot\u001b[0m\u001b[0;34m.\u001b[0m\u001b[0mbar\u001b[0m\u001b[0;34m(\u001b[0m\u001b[0mfigsize\u001b[0m\u001b[0;34m=\u001b[0m\u001b[0;34m(\u001b[0m\u001b[0;36m10\u001b[0m\u001b[0;34m,\u001b[0m\u001b[0;36m10\u001b[0m\u001b[0;34m)\u001b[0m\u001b[0;34m)\u001b[0m\u001b[0;34m\u001b[0m\u001b[0;34m\u001b[0m\u001b[0m\n\u001b[0m",
            "\u001b[0;31mNameError\u001b[0m: name 'df1' is not defined"
          ]
        }
      ]
    },
    {
      "cell_type": "markdown",
      "metadata": {
        "id": "wRG48-7vNNwc",
        "colab_type": "text"
      },
      "source": [
        "# 5.使用Pandas boxplot進行繪圖\n",
        "https://kknews.cc/zh-tw/tech/9n58a58.html"
      ]
    },
    {
      "cell_type": "code",
      "metadata": {
        "id": "7QQ2jZFHNklz",
        "colab_type": "code",
        "outputId": "a4f7135a-cb9c-4b36-9e61-28dd034ca765",
        "colab": {
          "base_uri": "https://localhost:8080/",
          "height": 286
        }
      },
      "source": [
        "df1.plot.box()"
      ],
      "execution_count": 0,
      "outputs": [
        {
          "output_type": "execute_result",
          "data": {
            "text/plain": [
              "<matplotlib.axes._subplots.AxesSubplot at 0x7feb11ed37f0>"
            ]
          },
          "metadata": {
            "tags": []
          },
          "execution_count": 19
        },
        {
          "output_type": "display_data",
          "data": {
            "image/png": "[encoded data removed]",
            "text/plain": [
              "<Figure size 432x288 with 1 Axes>"
            ]
          },
          "metadata": {
            "tags": []
          }
        }
      ]
    },
    {
      "cell_type": "code",
      "metadata": {
        "id": "vL00SjHEMg7S",
        "colab_type": "code",
        "outputId": "c59995e1-320d-4ac5-83d2-e96b6633ba25",
        "colab": {
          "base_uri": "https://localhost:8080/",
          "height": 286
        }
      },
      "source": [
        "df1.boxplot()"
      ],
      "execution_count": 0,
      "outputs": [
        {
          "output_type": "execute_result",
          "data": {
            "text/plain": [
              "<matplotlib.axes._subplots.AxesSubplot at 0x7feb11d34eb8>"
            ]
          },
          "metadata": {
            "tags": []
          },
          "execution_count": 20
        },
        {
          "output_type": "display_data",
          "data": {
            "image/png": "[encoded data removed]",
            "text/plain": [
              "<Figure size 432x288 with 1 Axes>"
            ]
          },
          "metadata": {
            "tags": []
          }
        }
      ]
    },
    {
      "cell_type": "code",
      "metadata": {
        "id": "Go_02du08iE3",
        "colab_type": "code",
        "colab": {}
      },
      "source": [
        ""
      ],
      "execution_count": 0,
      "outputs": []
    },
    {
      "cell_type": "markdown",
      "metadata": {
        "id": "Dxc1f5jzCRaJ",
        "colab_type": "text"
      },
      "source": [
        "# 6.使用datetime, 對timestamp取出month"
      ]
    },
    {
      "cell_type": "code",
      "metadata": {
        "id": "x-gcAYmbTzjn",
        "colab_type": "code",
        "outputId": "a2554b99-e4b1-4aaa-ba72-2b90c54febca",
        "colab": {
          "base_uri": "https://localhost:8080/",
          "height": 1000
        }
      },
      "source": [
        "df3"
      ],
      "execution_count": 0,
      "outputs": [
        {
          "output_type": "execute_result",
          "data": {
            "text/html": [
              "<div>\n",
              "<style scoped>\n",
              "    .dataframe tbody tr th:only-of-type {\n",
              "        vertical-align: middle;\n",
              "    }\n",
              "\n",
              "    .dataframe tbody tr th {\n",
              "        vertical-align: top;\n",
              "    }\n",
              "\n",
              "    .dataframe thead th {\n",
              "        text-align: right;\n",
              "    }\n",
              "</style>\n",
              "<table border=\"1\" class=\"dataframe\">\n",
              "  <thead>\n",
              "    <tr style=\"text-align: right;\">\n",
              "      <th></th>\n",
              "      <th>open</th>\n",
              "      <th>high</th>\n",
              "      <th>low</th>\n",
              "      <th>close</th>\n",
              "      <th>month</th>\n",
              "    </tr>\n",
              "    <tr>\n",
              "      <th>date</th>\n",
              "      <th></th>\n",
              "      <th></th>\n",
              "      <th></th>\n",
              "      <th></th>\n",
              "      <th></th>\n",
              "    </tr>\n",
              "  </thead>\n",
              "  <tbody>\n",
              "    <tr>\n",
              "      <th>2019-10-01</th>\n",
              "      <td>10819</td>\n",
              "      <td>11245</td>\n",
              "      <td>10753</td>\n",
              "      <td>11149</td>\n",
              "      <td>10</td>\n",
              "    </tr>\n",
              "    <tr>\n",
              "      <th>2019-09-02</th>\n",
              "      <td>10519</td>\n",
              "      <td>10920</td>\n",
              "      <td>10478</td>\n",
              "      <td>10805</td>\n",
              "      <td>9</td>\n",
              "    </tr>\n",
              "    <tr>\n",
              "      <th>2019-08-22</th>\n",
              "      <td>10496</td>\n",
              "      <td>10532</td>\n",
              "      <td>10251</td>\n",
              "      <td>10530</td>\n",
              "      <td>8</td>\n",
              "    </tr>\n",
              "    <tr>\n",
              "      <th>2018-11-01</th>\n",
              "      <td>9721</td>\n",
              "      <td>10000</td>\n",
              "      <td>9528</td>\n",
              "      <td>9743</td>\n",
              "      <td>11</td>\n",
              "    </tr>\n",
              "    <tr>\n",
              "      <th>2018-10-01</th>\n",
              "      <td>10942</td>\n",
              "      <td>11008</td>\n",
              "      <td>9326</td>\n",
              "      <td>9725</td>\n",
              "      <td>10</td>\n",
              "    </tr>\n",
              "    <tr>\n",
              "      <th>2018-09-03</th>\n",
              "      <td>10967</td>\n",
              "      <td>11026</td>\n",
              "      <td>10670</td>\n",
              "      <td>10944</td>\n",
              "      <td>9</td>\n",
              "    </tr>\n",
              "    <tr>\n",
              "      <th>2018-08-16</th>\n",
              "      <td>10587</td>\n",
              "      <td>11087</td>\n",
              "      <td>10565</td>\n",
              "      <td>10988</td>\n",
              "      <td>8</td>\n",
              "    </tr>\n",
              "    <tr>\n",
              "      <th>2017-11-01</th>\n",
              "      <td>10781</td>\n",
              "      <td>10832</td>\n",
              "      <td>10602</td>\n",
              "      <td>10638</td>\n",
              "      <td>11</td>\n",
              "    </tr>\n",
              "    <tr>\n",
              "      <th>2017-10-02</th>\n",
              "      <td>10371</td>\n",
              "      <td>10820</td>\n",
              "      <td>10370</td>\n",
              "      <td>10782</td>\n",
              "      <td>10</td>\n",
              "    </tr>\n",
              "    <tr>\n",
              "      <th>2017-09-21</th>\n",
              "      <td>10495</td>\n",
              "      <td>10565</td>\n",
              "      <td>10241</td>\n",
              "      <td>10361</td>\n",
              "      <td>9</td>\n",
              "    </tr>\n",
              "    <tr>\n",
              "      <th>2016-11-01</th>\n",
              "      <td>9259</td>\n",
              "      <td>9307</td>\n",
              "      <td>8877</td>\n",
              "      <td>8984</td>\n",
              "      <td>11</td>\n",
              "    </tr>\n",
              "    <tr>\n",
              "      <th>2016-10-03</th>\n",
              "      <td>9177</td>\n",
              "      <td>9394</td>\n",
              "      <td>9040</td>\n",
              "      <td>9283</td>\n",
              "      <td>10</td>\n",
              "    </tr>\n",
              "    <tr>\n",
              "      <th>2016-09-22</th>\n",
              "      <td>9199</td>\n",
              "      <td>9268</td>\n",
              "      <td>9100</td>\n",
              "      <td>9100</td>\n",
              "      <td>9</td>\n",
              "    </tr>\n",
              "    <tr>\n",
              "      <th>2015-11-02</th>\n",
              "      <td>8535</td>\n",
              "      <td>8900</td>\n",
              "      <td>8212</td>\n",
              "      <td>8336</td>\n",
              "      <td>11</td>\n",
              "    </tr>\n",
              "    <tr>\n",
              "      <th>2015-10-01</th>\n",
              "      <td>8175</td>\n",
              "      <td>8765</td>\n",
              "      <td>8100</td>\n",
              "      <td>8568</td>\n",
              "      <td>10</td>\n",
              "    </tr>\n",
              "    <tr>\n",
              "      <th>2015-09-17</th>\n",
              "      <td>8350</td>\n",
              "      <td>8450</td>\n",
              "      <td>7966</td>\n",
              "      <td>8118</td>\n",
              "      <td>9</td>\n",
              "    </tr>\n",
              "    <tr>\n",
              "      <th>2014-11-03</th>\n",
              "      <td>8978</td>\n",
              "      <td>9105</td>\n",
              "      <td>8839</td>\n",
              "      <td>8953</td>\n",
              "      <td>11</td>\n",
              "    </tr>\n",
              "    <tr>\n",
              "      <th>2014-10-01</th>\n",
              "      <td>8946</td>\n",
              "      <td>9104</td>\n",
              "      <td>8497</td>\n",
              "      <td>8975</td>\n",
              "      <td>10</td>\n",
              "    </tr>\n",
              "    <tr>\n",
              "      <th>2014-09-18</th>\n",
              "      <td>9235</td>\n",
              "      <td>9301</td>\n",
              "      <td>8870</td>\n",
              "      <td>8988</td>\n",
              "      <td>9</td>\n",
              "    </tr>\n",
              "    <tr>\n",
              "      <th>2013-11-01</th>\n",
              "      <td>8457</td>\n",
              "      <td>8476</td>\n",
              "      <td>8085</td>\n",
              "      <td>8219</td>\n",
              "      <td>11</td>\n",
              "    </tr>\n",
              "    <tr>\n",
              "      <th>2013-10-01</th>\n",
              "      <td>8110</td>\n",
              "      <td>8465</td>\n",
              "      <td>8106</td>\n",
              "      <td>8429</td>\n",
              "      <td>10</td>\n",
              "    </tr>\n",
              "    <tr>\n",
              "      <th>2013-09-23</th>\n",
              "      <td>8160</td>\n",
              "      <td>8247</td>\n",
              "      <td>8056</td>\n",
              "      <td>8091</td>\n",
              "      <td>9</td>\n",
              "    </tr>\n",
              "    <tr>\n",
              "      <th>2012-11-01</th>\n",
              "      <td>7098</td>\n",
              "      <td>7304</td>\n",
              "      <td>7029</td>\n",
              "      <td>7084</td>\n",
              "      <td>11</td>\n",
              "    </tr>\n",
              "    <tr>\n",
              "      <th>2012-10-01</th>\n",
              "      <td>7699</td>\n",
              "      <td>7740</td>\n",
              "      <td>7090</td>\n",
              "      <td>7141</td>\n",
              "      <td>10</td>\n",
              "    </tr>\n",
              "    <tr>\n",
              "      <th>2012-09-20</th>\n",
              "      <td>7775</td>\n",
              "      <td>7800</td>\n",
              "      <td>7663</td>\n",
              "      <td>7712</td>\n",
              "      <td>9</td>\n",
              "    </tr>\n",
              "    <tr>\n",
              "      <th>2011-11-01</th>\n",
              "      <td>7570</td>\n",
              "      <td>7709</td>\n",
              "      <td>7275</td>\n",
              "      <td>7397</td>\n",
              "      <td>11</td>\n",
              "    </tr>\n",
              "    <tr>\n",
              "      <th>2011-10-03</th>\n",
              "      <td>7026</td>\n",
              "      <td>7777</td>\n",
              "      <td>6861</td>\n",
              "      <td>7562</td>\n",
              "      <td>10</td>\n",
              "    </tr>\n",
              "    <tr>\n",
              "      <th>2011-09-22</th>\n",
              "      <td>7330</td>\n",
              "      <td>7339</td>\n",
              "      <td>6840</td>\n",
              "      <td>7165</td>\n",
              "      <td>9</td>\n",
              "    </tr>\n",
              "    <tr>\n",
              "      <th>2010-11-01</th>\n",
              "      <td>8325</td>\n",
              "      <td>8500</td>\n",
              "      <td>8220</td>\n",
              "      <td>8246</td>\n",
              "      <td>11</td>\n",
              "    </tr>\n",
              "    <tr>\n",
              "      <th>2010-10-01</th>\n",
              "      <td>8230</td>\n",
              "      <td>8368</td>\n",
              "      <td>7921</td>\n",
              "      <td>8302</td>\n",
              "      <td>10</td>\n",
              "    </tr>\n",
              "    <tr>\n",
              "      <th>...</th>\n",
              "      <td>...</td>\n",
              "      <td>...</td>\n",
              "      <td>...</td>\n",
              "      <td>...</td>\n",
              "      <td>...</td>\n",
              "    </tr>\n",
              "    <tr>\n",
              "      <th>2009-11-02</th>\n",
              "      <td>7150</td>\n",
              "      <td>7997</td>\n",
              "      <td>7135</td>\n",
              "      <td>7787</td>\n",
              "      <td>11</td>\n",
              "    </tr>\n",
              "    <tr>\n",
              "      <th>2009-10-01</th>\n",
              "      <td>7511</td>\n",
              "      <td>7772</td>\n",
              "      <td>7205</td>\n",
              "      <td>7283</td>\n",
              "      <td>10</td>\n",
              "    </tr>\n",
              "    <tr>\n",
              "      <th>2009-09-17</th>\n",
              "      <td>7500</td>\n",
              "      <td>7527</td>\n",
              "      <td>7188</td>\n",
              "      <td>7473</td>\n",
              "      <td>9</td>\n",
              "    </tr>\n",
              "    <tr>\n",
              "      <th>2008-11-03</th>\n",
              "      <td>4910</td>\n",
              "      <td>5100</td>\n",
              "      <td>4183</td>\n",
              "      <td>4261</td>\n",
              "      <td>11</td>\n",
              "    </tr>\n",
              "    <tr>\n",
              "      <th>2008-10-01</th>\n",
              "      <td>5618</td>\n",
              "      <td>5749</td>\n",
              "      <td>3811</td>\n",
              "      <td>4844</td>\n",
              "      <td>10</td>\n",
              "    </tr>\n",
              "    <tr>\n",
              "      <th>2008-09-18</th>\n",
              "      <td>5549</td>\n",
              "      <td>6176</td>\n",
              "      <td>5401</td>\n",
              "      <td>5528</td>\n",
              "      <td>9</td>\n",
              "    </tr>\n",
              "    <tr>\n",
              "      <th>2007-11-01</th>\n",
              "      <td>9815</td>\n",
              "      <td>9835</td>\n",
              "      <td>8342</td>\n",
              "      <td>8438</td>\n",
              "      <td>11</td>\n",
              "    </tr>\n",
              "    <tr>\n",
              "      <th>2007-10-01</th>\n",
              "      <td>9500</td>\n",
              "      <td>9864</td>\n",
              "      <td>9234</td>\n",
              "      <td>9780</td>\n",
              "      <td>10</td>\n",
              "    </tr>\n",
              "    <tr>\n",
              "      <th>2007-09-20</th>\n",
              "      <td>9078</td>\n",
              "      <td>9504</td>\n",
              "      <td>8980</td>\n",
              "      <td>9504</td>\n",
              "      <td>9</td>\n",
              "    </tr>\n",
              "    <tr>\n",
              "      <th>2006-11-01</th>\n",
              "      <td>6999</td>\n",
              "      <td>7266</td>\n",
              "      <td>6956</td>\n",
              "      <td>7247</td>\n",
              "      <td>11</td>\n",
              "    </tr>\n",
              "    <tr>\n",
              "      <th>2006-10-02</th>\n",
              "      <td>6879</td>\n",
              "      <td>7152</td>\n",
              "      <td>6859</td>\n",
              "      <td>7002</td>\n",
              "      <td>10</td>\n",
              "    </tr>\n",
              "    <tr>\n",
              "      <th>2006-09-21</th>\n",
              "      <td>6934</td>\n",
              "      <td>6976</td>\n",
              "      <td>6820</td>\n",
              "      <td>6880</td>\n",
              "      <td>9</td>\n",
              "    </tr>\n",
              "    <tr>\n",
              "      <th>2005-11-01</th>\n",
              "      <td>5806</td>\n",
              "      <td>6107</td>\n",
              "      <td>5786</td>\n",
              "      <td>6039</td>\n",
              "      <td>11</td>\n",
              "    </tr>\n",
              "    <tr>\n",
              "      <th>2005-10-03</th>\n",
              "      <td>6105</td>\n",
              "      <td>6164</td>\n",
              "      <td>5611</td>\n",
              "      <td>5775</td>\n",
              "      <td>10</td>\n",
              "    </tr>\n",
              "    <tr>\n",
              "      <th>2005-09-22</th>\n",
              "      <td>6035</td>\n",
              "      <td>6121</td>\n",
              "      <td>5895</td>\n",
              "      <td>6090</td>\n",
              "      <td>9</td>\n",
              "    </tr>\n",
              "    <tr>\n",
              "      <th>2004-11-01</th>\n",
              "      <td>5701</td>\n",
              "      <td>6043</td>\n",
              "      <td>5610</td>\n",
              "      <td>6040</td>\n",
              "      <td>11</td>\n",
              "    </tr>\n",
              "    <tr>\n",
              "      <th>2004-10-01</th>\n",
              "      <td>5898</td>\n",
              "      <td>6170</td>\n",
              "      <td>5598</td>\n",
              "      <td>5691</td>\n",
              "      <td>10</td>\n",
              "    </tr>\n",
              "    <tr>\n",
              "      <th>2004-09-16</th>\n",
              "      <td>5830</td>\n",
              "      <td>5955</td>\n",
              "      <td>5784</td>\n",
              "      <td>5870</td>\n",
              "      <td>9</td>\n",
              "    </tr>\n",
              "    <tr>\n",
              "      <th>2003-11-03</th>\n",
              "      <td>6068</td>\n",
              "      <td>6190</td>\n",
              "      <td>5734</td>\n",
              "      <td>5865</td>\n",
              "      <td>11</td>\n",
              "    </tr>\n",
              "    <tr>\n",
              "      <th>2003-10-01</th>\n",
              "      <td>5608</td>\n",
              "      <td>6193</td>\n",
              "      <td>5597</td>\n",
              "      <td>6068</td>\n",
              "      <td>10</td>\n",
              "    </tr>\n",
              "    <tr>\n",
              "      <th>2003-09-18</th>\n",
              "      <td>5759</td>\n",
              "      <td>5785</td>\n",
              "      <td>5640</td>\n",
              "      <td>5640</td>\n",
              "      <td>9</td>\n",
              "    </tr>\n",
              "    <tr>\n",
              "      <th>2002-11-01</th>\n",
              "      <td>4558</td>\n",
              "      <td>4828</td>\n",
              "      <td>4425</td>\n",
              "      <td>4661</td>\n",
              "      <td>11</td>\n",
              "    </tr>\n",
              "    <tr>\n",
              "      <th>2002-10-01</th>\n",
              "      <td>4090</td>\n",
              "      <td>4631</td>\n",
              "      <td>3764</td>\n",
              "      <td>4549</td>\n",
              "      <td>10</td>\n",
              "    </tr>\n",
              "    <tr>\n",
              "      <th>2002-09-19</th>\n",
              "      <td>4472</td>\n",
              "      <td>4588</td>\n",
              "      <td>4031</td>\n",
              "      <td>4140</td>\n",
              "      <td>9</td>\n",
              "    </tr>\n",
              "    <tr>\n",
              "      <th>2001-11-01</th>\n",
              "      <td>3878</td>\n",
              "      <td>4597</td>\n",
              "      <td>3840</td>\n",
              "      <td>4560</td>\n",
              "      <td>11</td>\n",
              "    </tr>\n",
              "    <tr>\n",
              "      <th>2001-10-02</th>\n",
              "      <td>3615</td>\n",
              "      <td>4054</td>\n",
              "      <td>3401</td>\n",
              "      <td>3866</td>\n",
              "      <td>10</td>\n",
              "    </tr>\n",
              "    <tr>\n",
              "      <th>2001-09-21</th>\n",
              "      <td>3670</td>\n",
              "      <td>3670</td>\n",
              "      <td>3347</td>\n",
              "      <td>3615</td>\n",
              "      <td>9</td>\n",
              "    </tr>\n",
              "    <tr>\n",
              "      <th>2000-11-01</th>\n",
              "      <td>5645</td>\n",
              "      <td>6309</td>\n",
              "      <td>5401</td>\n",
              "      <td>5830</td>\n",
              "      <td>11</td>\n",
              "    </tr>\n",
              "    <tr>\n",
              "      <th>2000-10-02</th>\n",
              "      <td>6360</td>\n",
              "      <td>6563</td>\n",
              "      <td>4983</td>\n",
              "      <td>5555</td>\n",
              "      <td>10</td>\n",
              "    </tr>\n",
              "    <tr>\n",
              "      <th>2000-09-21</th>\n",
              "      <td>6934</td>\n",
              "      <td>7020</td>\n",
              "      <td>6256</td>\n",
              "      <td>6280</td>\n",
              "      <td>9</td>\n",
              "    </tr>\n",
              "  </tbody>\n",
              "</table>\n",
              "<p>61 rows × 5 columns</p>\n",
              "</div>"
            ],
            "text/plain": [
              "             open   high    low  close  month\n",
              "date                                         \n",
              "2019-10-01  10819  11245  10753  11149     10\n",
              "2019-09-02  10519  10920  10478  10805      9\n",
              "2019-08-22  10496  10532  10251  10530      8\n",
              "2018-11-01   9721  10000   9528   9743     11\n",
              "2018-10-01  10942  11008   9326   9725     10\n",
              "2018-09-03  10967  11026  10670  10944      9\n",
              "2018-08-16  10587  11087  10565  10988      8\n",
              "2017-11-01  10781  10832  10602  10638     11\n",
              "2017-10-02  10371  10820  10370  10782     10\n",
              "2017-09-21  10495  10565  10241  10361      9\n",
              "2016-11-01   9259   9307   8877   8984     11\n",
              "2016-10-03   9177   9394   9040   9283     10\n",
              "2016-09-22   9199   9268   9100   9100      9\n",
              "2015-11-02   8535   8900   8212   8336     11\n",
              "2015-10-01   8175   8765   8100   8568     10\n",
              "2015-09-17   8350   8450   7966   8118      9\n",
              "2014-11-03   8978   9105   8839   8953     11\n",
              "2014-10-01   8946   9104   8497   8975     10\n",
              "2014-09-18   9235   9301   8870   8988      9\n",
              "2013-11-01   8457   8476   8085   8219     11\n",
              "2013-10-01   8110   8465   8106   8429     10\n",
              "2013-09-23   8160   8247   8056   8091      9\n",
              "2012-11-01   7098   7304   7029   7084     11\n",
              "2012-10-01   7699   7740   7090   7141     10\n",
              "2012-09-20   7775   7800   7663   7712      9\n",
              "2011-11-01   7570   7709   7275   7397     11\n",
              "2011-10-03   7026   7777   6861   7562     10\n",
              "2011-09-22   7330   7339   6840   7165      9\n",
              "2010-11-01   8325   8500   8220   8246     11\n",
              "2010-10-01   8230   8368   7921   8302     10\n",
              "...           ...    ...    ...    ...    ...\n",
              "2009-11-02   7150   7997   7135   7787     11\n",
              "2009-10-01   7511   7772   7205   7283     10\n",
              "2009-09-17   7500   7527   7188   7473      9\n",
              "2008-11-03   4910   5100   4183   4261     11\n",
              "2008-10-01   5618   5749   3811   4844     10\n",
              "2008-09-18   5549   6176   5401   5528      9\n",
              "2007-11-01   9815   9835   8342   8438     11\n",
              "2007-10-01   9500   9864   9234   9780     10\n",
              "2007-09-20   9078   9504   8980   9504      9\n",
              "2006-11-01   6999   7266   6956   7247     11\n",
              "2006-10-02   6879   7152   6859   7002     10\n",
              "2006-09-21   6934   6976   6820   6880      9\n",
              "2005-11-01   5806   6107   5786   6039     11\n",
              "2005-10-03   6105   6164   5611   5775     10\n",
              "2005-09-22   6035   6121   5895   6090      9\n",
              "2004-11-01   5701   6043   5610   6040     11\n",
              "2004-10-01   5898   6170   5598   5691     10\n",
              "2004-09-16   5830   5955   5784   5870      9\n",
              "2003-11-03   6068   6190   5734   5865     11\n",
              "2003-10-01   5608   6193   5597   6068     10\n",
              "2003-09-18   5759   5785   5640   5640      9\n",
              "2002-11-01   4558   4828   4425   4661     11\n",
              "2002-10-01   4090   4631   3764   4549     10\n",
              "2002-09-19   4472   4588   4031   4140      9\n",
              "2001-11-01   3878   4597   3840   4560     11\n",
              "2001-10-02   3615   4054   3401   3866     10\n",
              "2001-09-21   3670   3670   3347   3615      9\n",
              "2000-11-01   5645   6309   5401   5830     11\n",
              "2000-10-02   6360   6563   4983   5555     10\n",
              "2000-09-21   6934   7020   6256   6280      9\n",
              "\n",
              "[61 rows x 5 columns]"
            ]
          },
          "metadata": {
            "tags": []
          },
          "execution_count": 35
        }
      ]
    },
    {
      "cell_type": "code",
      "metadata": {
        "id": "NeiJja3ZUAcg",
        "colab_type": "code",
        "outputId": "ee376884-e1ad-4031-a94f-10a673955846",
        "colab": {
          "base_uri": "https://localhost:8080/",
          "height": 34
        }
      },
      "source": [
        "df3.shape"
      ],
      "execution_count": 0,
      "outputs": [
        {
          "output_type": "execute_result",
          "data": {
            "text/plain": [
              "(61, 5)"
            ]
          },
          "metadata": {
            "tags": []
          },
          "execution_count": 36
        }
      ]
    },
    {
      "cell_type": "code",
      "metadata": {
        "id": "bwVopDEC88Uu",
        "colab_type": "code",
        "colab": {}
      },
      "source": [
        "import datetime as dt"
      ],
      "execution_count": 0,
      "outputs": []
    },
    {
      "cell_type": "code",
      "metadata": {
        "id": "MmrW91PdB2Fc",
        "colab_type": "code",
        "outputId": "982a994d-4fa2-4ef2-98df-8f0cd1f8d43c",
        "colab": {
          "base_uri": "https://localhost:8080/",
          "height": 34
        }
      },
      "source": [
        "df3['date'][0]"
      ],
      "execution_count": 0,
      "outputs": [
        {
          "output_type": "execute_result",
          "data": {
            "text/plain": [
              "Timestamp('2019-10-01 00:00:00')"
            ]
          },
          "metadata": {
            "tags": []
          },
          "execution_count": 6
        }
      ]
    },
    {
      "cell_type": "code",
      "metadata": {
        "id": "NuK10aNTBgMF",
        "colab_type": "code",
        "outputId": "496ccdec-ad9c-4e29-9cfa-e42e93b46637",
        "colab": {
          "base_uri": "https://localhost:8080/",
          "height": 34
        }
      },
      "source": [
        "df3['date'][0].to_pydatetime()"
      ],
      "execution_count": 0,
      "outputs": [
        {
          "output_type": "execute_result",
          "data": {
            "text/plain": [
              "datetime.datetime(2019, 10, 1, 0, 0)"
            ]
          },
          "metadata": {
            "tags": []
          },
          "execution_count": 7
        }
      ]
    },
    {
      "cell_type": "code",
      "metadata": {
        "id": "6ePUX7f9B9MQ",
        "colab_type": "code",
        "outputId": "e42eb086-a203-49be-c1c1-4c1138382523",
        "colab": {
          "base_uri": "https://localhost:8080/",
          "height": 34
        }
      },
      "source": [
        "df3['date'][0].to_pydatetime().month"
      ],
      "execution_count": 0,
      "outputs": [
        {
          "output_type": "execute_result",
          "data": {
            "text/plain": [
              "10"
            ]
          },
          "metadata": {
            "tags": []
          },
          "execution_count": 8
        }
      ]
    },
    {
      "cell_type": "code",
      "metadata": {
        "id": "0oEhjWq3FWSh",
        "colab_type": "code",
        "outputId": "cfc797e6-444f-49c3-8c70-3a0e10847d01",
        "colab": {
          "base_uri": "https://localhost:8080/",
          "height": 102
        }
      },
      "source": [
        "x=[i.to_pydatetime() for i in df3['date']]\n",
        "x[0:5]"
      ],
      "execution_count": 0,
      "outputs": [
        {
          "output_type": "execute_result",
          "data": {
            "text/plain": [
              "[datetime.datetime(2019, 10, 1, 0, 0),\n",
              " datetime.datetime(2019, 9, 2, 0, 0),\n",
              " datetime.datetime(2019, 8, 22, 0, 0),\n",
              " datetime.datetime(2018, 11, 1, 0, 0),\n",
              " datetime.datetime(2018, 10, 1, 0, 0)]"
            ]
          },
          "metadata": {
            "tags": []
          },
          "execution_count": 9
        }
      ]
    },
    {
      "cell_type": "code",
      "metadata": {
        "id": "oRDx7wc_EU8Q",
        "colab_type": "code",
        "outputId": "6e541871-704f-4468-d464-17ecbf14a001",
        "colab": {
          "base_uri": "https://localhost:8080/",
          "height": 34
        }
      },
      "source": [
        "x=[i.to_pydatetime().month for i in df3['date']]\n",
        "x[0:5]"
      ],
      "execution_count": 0,
      "outputs": [
        {
          "output_type": "execute_result",
          "data": {
            "text/plain": [
              "[10, 9, 8, 11, 10]"
            ]
          },
          "metadata": {
            "tags": []
          },
          "execution_count": 10
        }
      ]
    },
    {
      "cell_type": "code",
      "metadata": {
        "id": "BgkUmdcREiKu",
        "colab_type": "code",
        "outputId": "c91e9001-a388-4b19-b2d9-5c80002939c0",
        "colab": {
          "base_uri": "https://localhost:8080/",
          "height": 34
        }
      },
      "source": [
        "type(df3['date'])"
      ],
      "execution_count": 0,
      "outputs": [
        {
          "output_type": "execute_result",
          "data": {
            "text/plain": [
              "pandas.core.series.Series"
            ]
          },
          "metadata": {
            "tags": []
          },
          "execution_count": 11
        }
      ]
    },
    {
      "cell_type": "code",
      "metadata": {
        "id": "5KI42JiHEvts",
        "colab_type": "code",
        "outputId": "3181ad1b-5dea-49cb-865e-f1b43d5d994f",
        "colab": {
          "base_uri": "https://localhost:8080/",
          "height": 34
        }
      },
      "source": [
        "type(x)"
      ],
      "execution_count": 0,
      "outputs": [
        {
          "output_type": "execute_result",
          "data": {
            "text/plain": [
              "list"
            ]
          },
          "metadata": {
            "tags": []
          },
          "execution_count": 12
        }
      ]
    },
    {
      "cell_type": "code",
      "metadata": {
        "id": "KCDxIYiG-1ve",
        "colab_type": "code",
        "outputId": "01c2ca41-db3f-4b80-fc20-8abf23a555b6",
        "colab": {
          "base_uri": "https://localhost:8080/",
          "height": 204
        }
      },
      "source": [
        "df3.head()"
      ],
      "execution_count": 0,
      "outputs": [
        {
          "output_type": "execute_result",
          "data": {
            "text/html": [
              "<div>\n",
              "<style scoped>\n",
              "    .dataframe tbody tr th:only-of-type {\n",
              "        vertical-align: middle;\n",
              "    }\n",
              "\n",
              "    .dataframe tbody tr th {\n",
              "        vertical-align: top;\n",
              "    }\n",
              "\n",
              "    .dataframe thead th {\n",
              "        text-align: right;\n",
              "    }\n",
              "</style>\n",
              "<table border=\"1\" class=\"dataframe\">\n",
              "  <thead>\n",
              "    <tr style=\"text-align: right;\">\n",
              "      <th></th>\n",
              "      <th>date</th>\n",
              "      <th>open</th>\n",
              "      <th>high</th>\n",
              "      <th>low</th>\n",
              "      <th>close</th>\n",
              "    </tr>\n",
              "  </thead>\n",
              "  <tbody>\n",
              "    <tr>\n",
              "      <th>0</th>\n",
              "      <td>2019-10-01</td>\n",
              "      <td>10819</td>\n",
              "      <td>11245</td>\n",
              "      <td>10753</td>\n",
              "      <td>11149</td>\n",
              "    </tr>\n",
              "    <tr>\n",
              "      <th>1</th>\n",
              "      <td>2019-09-02</td>\n",
              "      <td>10519</td>\n",
              "      <td>10920</td>\n",
              "      <td>10478</td>\n",
              "      <td>10805</td>\n",
              "    </tr>\n",
              "    <tr>\n",
              "      <th>2</th>\n",
              "      <td>2019-08-22</td>\n",
              "      <td>10496</td>\n",
              "      <td>10532</td>\n",
              "      <td>10251</td>\n",
              "      <td>10530</td>\n",
              "    </tr>\n",
              "    <tr>\n",
              "      <th>3</th>\n",
              "      <td>2018-11-01</td>\n",
              "      <td>9721</td>\n",
              "      <td>10000</td>\n",
              "      <td>9528</td>\n",
              "      <td>9743</td>\n",
              "    </tr>\n",
              "    <tr>\n",
              "      <th>4</th>\n",
              "      <td>2018-10-01</td>\n",
              "      <td>10942</td>\n",
              "      <td>11008</td>\n",
              "      <td>9326</td>\n",
              "      <td>9725</td>\n",
              "    </tr>\n",
              "  </tbody>\n",
              "</table>\n",
              "</div>"
            ],
            "text/plain": [
              "        date   open   high    low  close\n",
              "0 2019-10-01  10819  11245  10753  11149\n",
              "1 2019-09-02  10519  10920  10478  10805\n",
              "2 2019-08-22  10496  10532  10251  10530\n",
              "3 2018-11-01   9721  10000   9528   9743\n",
              "4 2018-10-01  10942  11008   9326   9725"
            ]
          },
          "metadata": {
            "tags": []
          },
          "execution_count": 13
        }
      ]
    },
    {
      "cell_type": "code",
      "metadata": {
        "id": "J-Gam2ZxF04t",
        "colab_type": "code",
        "colab": {}
      },
      "source": [
        "df3['month']=x"
      ],
      "execution_count": 0,
      "outputs": []
    },
    {
      "cell_type": "code",
      "metadata": {
        "id": "3Ce-kOx-F5aL",
        "colab_type": "code",
        "outputId": "a110ba73-4d17-416a-d001-ff0304ffa13e",
        "colab": {
          "base_uri": "https://localhost:8080/",
          "height": 204
        }
      },
      "source": [
        "df3.head()"
      ],
      "execution_count": 0,
      "outputs": [
        {
          "output_type": "execute_result",
          "data": {
            "text/html": [
              "<div>\n",
              "<style scoped>\n",
              "    .dataframe tbody tr th:only-of-type {\n",
              "        vertical-align: middle;\n",
              "    }\n",
              "\n",
              "    .dataframe tbody tr th {\n",
              "        vertical-align: top;\n",
              "    }\n",
              "\n",
              "    .dataframe thead th {\n",
              "        text-align: right;\n",
              "    }\n",
              "</style>\n",
              "<table border=\"1\" class=\"dataframe\">\n",
              "  <thead>\n",
              "    <tr style=\"text-align: right;\">\n",
              "      <th></th>\n",
              "      <th>date</th>\n",
              "      <th>open</th>\n",
              "      <th>high</th>\n",
              "      <th>low</th>\n",
              "      <th>close</th>\n",
              "      <th>month</th>\n",
              "    </tr>\n",
              "  </thead>\n",
              "  <tbody>\n",
              "    <tr>\n",
              "      <th>0</th>\n",
              "      <td>2019-10-01</td>\n",
              "      <td>10819</td>\n",
              "      <td>11245</td>\n",
              "      <td>10753</td>\n",
              "      <td>11149</td>\n",
              "      <td>10</td>\n",
              "    </tr>\n",
              "    <tr>\n",
              "      <th>1</th>\n",
              "      <td>2019-09-02</td>\n",
              "      <td>10519</td>\n",
              "      <td>10920</td>\n",
              "      <td>10478</td>\n",
              "      <td>10805</td>\n",
              "      <td>9</td>\n",
              "    </tr>\n",
              "    <tr>\n",
              "      <th>2</th>\n",
              "      <td>2019-08-22</td>\n",
              "      <td>10496</td>\n",
              "      <td>10532</td>\n",
              "      <td>10251</td>\n",
              "      <td>10530</td>\n",
              "      <td>8</td>\n",
              "    </tr>\n",
              "    <tr>\n",
              "      <th>3</th>\n",
              "      <td>2018-11-01</td>\n",
              "      <td>9721</td>\n",
              "      <td>10000</td>\n",
              "      <td>9528</td>\n",
              "      <td>9743</td>\n",
              "      <td>11</td>\n",
              "    </tr>\n",
              "    <tr>\n",
              "      <th>4</th>\n",
              "      <td>2018-10-01</td>\n",
              "      <td>10942</td>\n",
              "      <td>11008</td>\n",
              "      <td>9326</td>\n",
              "      <td>9725</td>\n",
              "      <td>10</td>\n",
              "    </tr>\n",
              "  </tbody>\n",
              "</table>\n",
              "</div>"
            ],
            "text/plain": [
              "        date   open   high    low  close  month\n",
              "0 2019-10-01  10819  11245  10753  11149     10\n",
              "1 2019-09-02  10519  10920  10478  10805      9\n",
              "2 2019-08-22  10496  10532  10251  10530      8\n",
              "3 2018-11-01   9721  10000   9528   9743     11\n",
              "4 2018-10-01  10942  11008   9326   9725     10"
            ]
          },
          "metadata": {
            "tags": []
          },
          "execution_count": 15
        }
      ]
    },
    {
      "cell_type": "markdown",
      "metadata": {
        "id": "1TYrYiY1F-k0",
        "colab_type": "text"
      },
      "source": [
        "# 7.設定日期為index\n",
        "```\n",
        "df.columns = ['date','number']\n",
        "df['date'] = pd.to_datetime(df['date']) #将数据类型转换为日期类型\n",
        "df = df.set_index('date') # 将date设置为index\n",
        "```"
      ]
    },
    {
      "cell_type": "code",
      "metadata": {
        "id": "aG7A18UdF7QP",
        "colab_type": "code",
        "colab": {}
      },
      "source": [
        "date=df3['date']\n",
        "df3.index=date"
      ],
      "execution_count": 0,
      "outputs": []
    },
    {
      "cell_type": "code",
      "metadata": {
        "id": "EgahCQP6EyMi",
        "colab_type": "code",
        "outputId": "cddb44ca-c9c2-479d-ecf8-6a5ce3b9080a",
        "colab": {
          "base_uri": "https://localhost:8080/",
          "height": 235
        }
      },
      "source": [
        "df3.head()"
      ],
      "execution_count": 0,
      "outputs": [
        {
          "output_type": "execute_result",
          "data": {
            "text/html": [
              "<div>\n",
              "<style scoped>\n",
              "    .dataframe tbody tr th:only-of-type {\n",
              "        vertical-align: middle;\n",
              "    }\n",
              "\n",
              "    .dataframe tbody tr th {\n",
              "        vertical-align: top;\n",
              "    }\n",
              "\n",
              "    .dataframe thead th {\n",
              "        text-align: right;\n",
              "    }\n",
              "</style>\n",
              "<table border=\"1\" class=\"dataframe\">\n",
              "  <thead>\n",
              "    <tr style=\"text-align: right;\">\n",
              "      <th></th>\n",
              "      <th>date</th>\n",
              "      <th>open</th>\n",
              "      <th>high</th>\n",
              "      <th>low</th>\n",
              "      <th>close</th>\n",
              "      <th>month</th>\n",
              "    </tr>\n",
              "    <tr>\n",
              "      <th>date</th>\n",
              "      <th></th>\n",
              "      <th></th>\n",
              "      <th></th>\n",
              "      <th></th>\n",
              "      <th></th>\n",
              "      <th></th>\n",
              "    </tr>\n",
              "  </thead>\n",
              "  <tbody>\n",
              "    <tr>\n",
              "      <th>2019-10-01</th>\n",
              "      <td>2019-10-01</td>\n",
              "      <td>10819</td>\n",
              "      <td>11245</td>\n",
              "      <td>10753</td>\n",
              "      <td>11149</td>\n",
              "      <td>10</td>\n",
              "    </tr>\n",
              "    <tr>\n",
              "      <th>2019-09-02</th>\n",
              "      <td>2019-09-02</td>\n",
              "      <td>10519</td>\n",
              "      <td>10920</td>\n",
              "      <td>10478</td>\n",
              "      <td>10805</td>\n",
              "      <td>9</td>\n",
              "    </tr>\n",
              "    <tr>\n",
              "      <th>2019-08-22</th>\n",
              "      <td>2019-08-22</td>\n",
              "      <td>10496</td>\n",
              "      <td>10532</td>\n",
              "      <td>10251</td>\n",
              "      <td>10530</td>\n",
              "      <td>8</td>\n",
              "    </tr>\n",
              "    <tr>\n",
              "      <th>2018-11-01</th>\n",
              "      <td>2018-11-01</td>\n",
              "      <td>9721</td>\n",
              "      <td>10000</td>\n",
              "      <td>9528</td>\n",
              "      <td>9743</td>\n",
              "      <td>11</td>\n",
              "    </tr>\n",
              "    <tr>\n",
              "      <th>2018-10-01</th>\n",
              "      <td>2018-10-01</td>\n",
              "      <td>10942</td>\n",
              "      <td>11008</td>\n",
              "      <td>9326</td>\n",
              "      <td>9725</td>\n",
              "      <td>10</td>\n",
              "    </tr>\n",
              "  </tbody>\n",
              "</table>\n",
              "</div>"
            ],
            "text/plain": [
              "                 date   open   high    low  close  month\n",
              "date                                                    \n",
              "2019-10-01 2019-10-01  10819  11245  10753  11149     10\n",
              "2019-09-02 2019-09-02  10519  10920  10478  10805      9\n",
              "2019-08-22 2019-08-22  10496  10532  10251  10530      8\n",
              "2018-11-01 2018-11-01   9721  10000   9528   9743     11\n",
              "2018-10-01 2018-10-01  10942  11008   9326   9725     10"
            ]
          },
          "metadata": {
            "tags": []
          },
          "execution_count": 17
        }
      ]
    },
    {
      "cell_type": "code",
      "metadata": {
        "id": "VIAb8ufBEzoT",
        "colab_type": "code",
        "colab": {}
      },
      "source": [
        "del df3['date']"
      ],
      "execution_count": 0,
      "outputs": []
    },
    {
      "cell_type": "code",
      "metadata": {
        "id": "7IiAmtsiE5JK",
        "colab_type": "code",
        "outputId": "5b0bb913-a805-4278-aa3b-de551413e471",
        "colab": {
          "base_uri": "https://localhost:8080/",
          "height": 235
        }
      },
      "source": [
        "df3.head()"
      ],
      "execution_count": 0,
      "outputs": [
        {
          "output_type": "execute_result",
          "data": {
            "text/html": [
              "<div>\n",
              "<style scoped>\n",
              "    .dataframe tbody tr th:only-of-type {\n",
              "        vertical-align: middle;\n",
              "    }\n",
              "\n",
              "    .dataframe tbody tr th {\n",
              "        vertical-align: top;\n",
              "    }\n",
              "\n",
              "    .dataframe thead th {\n",
              "        text-align: right;\n",
              "    }\n",
              "</style>\n",
              "<table border=\"1\" class=\"dataframe\">\n",
              "  <thead>\n",
              "    <tr style=\"text-align: right;\">\n",
              "      <th></th>\n",
              "      <th>open</th>\n",
              "      <th>high</th>\n",
              "      <th>low</th>\n",
              "      <th>close</th>\n",
              "      <th>month</th>\n",
              "    </tr>\n",
              "    <tr>\n",
              "      <th>date</th>\n",
              "      <th></th>\n",
              "      <th></th>\n",
              "      <th></th>\n",
              "      <th></th>\n",
              "      <th></th>\n",
              "    </tr>\n",
              "  </thead>\n",
              "  <tbody>\n",
              "    <tr>\n",
              "      <th>2019-10-01</th>\n",
              "      <td>10819</td>\n",
              "      <td>11245</td>\n",
              "      <td>10753</td>\n",
              "      <td>11149</td>\n",
              "      <td>10</td>\n",
              "    </tr>\n",
              "    <tr>\n",
              "      <th>2019-09-02</th>\n",
              "      <td>10519</td>\n",
              "      <td>10920</td>\n",
              "      <td>10478</td>\n",
              "      <td>10805</td>\n",
              "      <td>9</td>\n",
              "    </tr>\n",
              "    <tr>\n",
              "      <th>2019-08-22</th>\n",
              "      <td>10496</td>\n",
              "      <td>10532</td>\n",
              "      <td>10251</td>\n",
              "      <td>10530</td>\n",
              "      <td>8</td>\n",
              "    </tr>\n",
              "    <tr>\n",
              "      <th>2018-11-01</th>\n",
              "      <td>9721</td>\n",
              "      <td>10000</td>\n",
              "      <td>9528</td>\n",
              "      <td>9743</td>\n",
              "      <td>11</td>\n",
              "    </tr>\n",
              "    <tr>\n",
              "      <th>2018-10-01</th>\n",
              "      <td>10942</td>\n",
              "      <td>11008</td>\n",
              "      <td>9326</td>\n",
              "      <td>9725</td>\n",
              "      <td>10</td>\n",
              "    </tr>\n",
              "  </tbody>\n",
              "</table>\n",
              "</div>"
            ],
            "text/plain": [
              "             open   high    low  close  month\n",
              "date                                         \n",
              "2019-10-01  10819  11245  10753  11149     10\n",
              "2019-09-02  10519  10920  10478  10805      9\n",
              "2019-08-22  10496  10532  10251  10530      8\n",
              "2018-11-01   9721  10000   9528   9743     11\n",
              "2018-10-01  10942  11008   9326   9725     10"
            ]
          },
          "metadata": {
            "tags": []
          },
          "execution_count": 19
        }
      ]
    },
    {
      "cell_type": "markdown",
      "metadata": {
        "id": "UJAASsy_GWos",
        "colab_type": "text"
      },
      "source": [
        "# 8.GroupBy月份"
      ]
    },
    {
      "cell_type": "code",
      "metadata": {
        "id": "AtDgSNvMFdY4",
        "colab_type": "code",
        "outputId": "8ffda2f6-0c63-4226-8f87-7539e9aba553",
        "colab": {
          "base_uri": "https://localhost:8080/",
          "height": 119
        }
      },
      "source": [
        "df3.groupby('month')['open'].median()"
      ],
      "execution_count": 0,
      "outputs": [
        {
          "output_type": "execute_result",
          "data": {
            "text/plain": [
              "month\n",
              "8     10541.5\n",
              "9      7637.5\n",
              "10     7605.0\n",
              "11     7150.0\n",
              "Name: open, dtype: float64"
            ]
          },
          "metadata": {
            "tags": []
          },
          "execution_count": 24
        }
      ]
    },
    {
      "cell_type": "code",
      "metadata": {
        "id": "Djnzq4iWQP_K",
        "colab_type": "code",
        "colab": {}
      },
      "source": [
        "df4=df3.groupby('month').median()"
      ],
      "execution_count": 0,
      "outputs": []
    },
    {
      "cell_type": "code",
      "metadata": {
        "id": "or6fGHk1RwYr",
        "colab_type": "code",
        "outputId": "7b19f4c7-5a74-4232-c190-2d0d2b22988e",
        "colab": {
          "base_uri": "https://localhost:8080/",
          "height": 204
        }
      },
      "source": [
        "df3.groupby('month').mean()"
      ],
      "execution_count": 0,
      "outputs": [
        {
          "output_type": "execute_result",
          "data": {
            "text/html": [
              "<div>\n",
              "<style scoped>\n",
              "    .dataframe tbody tr th:only-of-type {\n",
              "        vertical-align: middle;\n",
              "    }\n",
              "\n",
              "    .dataframe tbody tr th {\n",
              "        vertical-align: top;\n",
              "    }\n",
              "\n",
              "    .dataframe thead th {\n",
              "        text-align: right;\n",
              "    }\n",
              "</style>\n",
              "<table border=\"1\" class=\"dataframe\">\n",
              "  <thead>\n",
              "    <tr style=\"text-align: right;\">\n",
              "      <th></th>\n",
              "      <th>open</th>\n",
              "      <th>high</th>\n",
              "      <th>low</th>\n",
              "      <th>close</th>\n",
              "    </tr>\n",
              "    <tr>\n",
              "      <th>month</th>\n",
              "      <th></th>\n",
              "      <th></th>\n",
              "      <th></th>\n",
              "      <th></th>\n",
              "    </tr>\n",
              "  </thead>\n",
              "  <tbody>\n",
              "    <tr>\n",
              "      <th>8</th>\n",
              "      <td>10541.500000</td>\n",
              "      <td>10809.500000</td>\n",
              "      <td>10408.000000</td>\n",
              "      <td>10759.000000</td>\n",
              "    </tr>\n",
              "    <tr>\n",
              "      <th>9</th>\n",
              "      <td>7596.200000</td>\n",
              "      <td>7725.450000</td>\n",
              "      <td>7363.650000</td>\n",
              "      <td>7524.850000</td>\n",
              "    </tr>\n",
              "    <tr>\n",
              "      <th>10</th>\n",
              "      <td>7533.950000</td>\n",
              "      <td>7849.900000</td>\n",
              "      <td>7106.350000</td>\n",
              "      <td>7516.450000</td>\n",
              "    </tr>\n",
              "    <tr>\n",
              "      <th>11</th>\n",
              "      <td>7329.157895</td>\n",
              "      <td>7600.263158</td>\n",
              "      <td>7056.789474</td>\n",
              "      <td>7280.421053</td>\n",
              "    </tr>\n",
              "  </tbody>\n",
              "</table>\n",
              "</div>"
            ],
            "text/plain": [
              "               open          high           low         close\n",
              "month                                                        \n",
              "8      10541.500000  10809.500000  10408.000000  10759.000000\n",
              "9       7596.200000   7725.450000   7363.650000   7524.850000\n",
              "10      7533.950000   7849.900000   7106.350000   7516.450000\n",
              "11      7329.157895   7600.263158   7056.789474   7280.421053"
            ]
          },
          "metadata": {
            "tags": []
          },
          "execution_count": 29
        }
      ]
    },
    {
      "cell_type": "code",
      "metadata": {
        "id": "3C2STCmVR8Qp",
        "colab_type": "code",
        "outputId": "058bfaa8-1ef1-492b-d57d-316d27c90911",
        "colab": {
          "base_uri": "https://localhost:8080/",
          "height": 119
        }
      },
      "source": [
        "df3.mean()"
      ],
      "execution_count": 0,
      "outputs": [
        {
          "output_type": "execute_result",
          "data": {
            "text/plain": [
              "open     7589.180328\n",
              "high     7828.377049\n",
              "low      7283.524590\n",
              "close    7552.000000\n",
              "month       9.918033\n",
              "dtype: float64"
            ]
          },
          "metadata": {
            "tags": []
          },
          "execution_count": 30
        }
      ]
    },
    {
      "cell_type": "code",
      "metadata": {
        "id": "_x7bajOPSQpl",
        "colab_type": "code",
        "outputId": "64fc611c-bf52-4c18-bc67-111050aced76",
        "colab": {
          "base_uri": "https://localhost:8080/",
          "height": 235
        }
      },
      "source": [
        "df3.tail()"
      ],
      "execution_count": 0,
      "outputs": [
        {
          "output_type": "execute_result",
          "data": {
            "text/html": [
              "<div>\n",
              "<style scoped>\n",
              "    .dataframe tbody tr th:only-of-type {\n",
              "        vertical-align: middle;\n",
              "    }\n",
              "\n",
              "    .dataframe tbody tr th {\n",
              "        vertical-align: top;\n",
              "    }\n",
              "\n",
              "    .dataframe thead th {\n",
              "        text-align: right;\n",
              "    }\n",
              "</style>\n",
              "<table border=\"1\" class=\"dataframe\">\n",
              "  <thead>\n",
              "    <tr style=\"text-align: right;\">\n",
              "      <th></th>\n",
              "      <th>open</th>\n",
              "      <th>high</th>\n",
              "      <th>low</th>\n",
              "      <th>close</th>\n",
              "      <th>month</th>\n",
              "    </tr>\n",
              "    <tr>\n",
              "      <th>date</th>\n",
              "      <th></th>\n",
              "      <th></th>\n",
              "      <th></th>\n",
              "      <th></th>\n",
              "      <th></th>\n",
              "    </tr>\n",
              "  </thead>\n",
              "  <tbody>\n",
              "    <tr>\n",
              "      <th>2001-10-02</th>\n",
              "      <td>3615</td>\n",
              "      <td>4054</td>\n",
              "      <td>3401</td>\n",
              "      <td>3866</td>\n",
              "      <td>10</td>\n",
              "    </tr>\n",
              "    <tr>\n",
              "      <th>2001-09-21</th>\n",
              "      <td>3670</td>\n",
              "      <td>3670</td>\n",
              "      <td>3347</td>\n",
              "      <td>3615</td>\n",
              "      <td>9</td>\n",
              "    </tr>\n",
              "    <tr>\n",
              "      <th>2000-11-01</th>\n",
              "      <td>5645</td>\n",
              "      <td>6309</td>\n",
              "      <td>5401</td>\n",
              "      <td>5830</td>\n",
              "      <td>11</td>\n",
              "    </tr>\n",
              "    <tr>\n",
              "      <th>2000-10-02</th>\n",
              "      <td>6360</td>\n",
              "      <td>6563</td>\n",
              "      <td>4983</td>\n",
              "      <td>5555</td>\n",
              "      <td>10</td>\n",
              "    </tr>\n",
              "    <tr>\n",
              "      <th>2000-09-21</th>\n",
              "      <td>6934</td>\n",
              "      <td>7020</td>\n",
              "      <td>6256</td>\n",
              "      <td>6280</td>\n",
              "      <td>9</td>\n",
              "    </tr>\n",
              "  </tbody>\n",
              "</table>\n",
              "</div>"
            ],
            "text/plain": [
              "            open  high   low  close  month\n",
              "date                                      \n",
              "2001-10-02  3615  4054  3401   3866     10\n",
              "2001-09-21  3670  3670  3347   3615      9\n",
              "2000-11-01  5645  6309  5401   5830     11\n",
              "2000-10-02  6360  6563  4983   5555     10\n",
              "2000-09-21  6934  7020  6256   6280      9"
            ]
          },
          "metadata": {
            "tags": []
          },
          "execution_count": 33
        }
      ]
    },
    {
      "cell_type": "code",
      "metadata": {
        "id": "BTnJfgiOSa41",
        "colab_type": "code",
        "outputId": "48db6e25-0fe0-44b0-8c0f-876ced5f91c9",
        "colab": {
          "base_uri": "https://localhost:8080/",
          "height": 297
        }
      },
      "source": [
        "df3.describe()"
      ],
      "execution_count": 0,
      "outputs": [
        {
          "output_type": "execute_result",
          "data": {
            "text/html": [
              "<div>\n",
              "<style scoped>\n",
              "    .dataframe tbody tr th:only-of-type {\n",
              "        vertical-align: middle;\n",
              "    }\n",
              "\n",
              "    .dataframe tbody tr th {\n",
              "        vertical-align: top;\n",
              "    }\n",
              "\n",
              "    .dataframe thead th {\n",
              "        text-align: right;\n",
              "    }\n",
              "</style>\n",
              "<table border=\"1\" class=\"dataframe\">\n",
              "  <thead>\n",
              "    <tr style=\"text-align: right;\">\n",
              "      <th></th>\n",
              "      <th>open</th>\n",
              "      <th>high</th>\n",
              "      <th>low</th>\n",
              "      <th>close</th>\n",
              "      <th>month</th>\n",
              "    </tr>\n",
              "  </thead>\n",
              "  <tbody>\n",
              "    <tr>\n",
              "      <th>count</th>\n",
              "      <td>61.000000</td>\n",
              "      <td>61.000000</td>\n",
              "      <td>61.000000</td>\n",
              "      <td>61.000000</td>\n",
              "      <td>61.000000</td>\n",
              "    </tr>\n",
              "    <tr>\n",
              "      <th>mean</th>\n",
              "      <td>7589.180328</td>\n",
              "      <td>7828.377049</td>\n",
              "      <td>7283.524590</td>\n",
              "      <td>7552.000000</td>\n",
              "      <td>9.918033</td>\n",
              "    </tr>\n",
              "    <tr>\n",
              "      <th>std</th>\n",
              "      <td>2023.709848</td>\n",
              "      <td>1990.369121</td>\n",
              "      <td>2054.789508</td>\n",
              "      <td>2022.261144</td>\n",
              "      <td>0.881194</td>\n",
              "    </tr>\n",
              "    <tr>\n",
              "      <th>min</th>\n",
              "      <td>3615.000000</td>\n",
              "      <td>3670.000000</td>\n",
              "      <td>3347.000000</td>\n",
              "      <td>3615.000000</td>\n",
              "      <td>8.000000</td>\n",
              "    </tr>\n",
              "    <tr>\n",
              "      <th>25%</th>\n",
              "      <td>5898.000000</td>\n",
              "      <td>6176.000000</td>\n",
              "      <td>5640.000000</td>\n",
              "      <td>5870.000000</td>\n",
              "      <td>9.000000</td>\n",
              "    </tr>\n",
              "    <tr>\n",
              "      <th>50%</th>\n",
              "      <td>7570.000000</td>\n",
              "      <td>7777.000000</td>\n",
              "      <td>7205.000000</td>\n",
              "      <td>7562.000000</td>\n",
              "      <td>10.000000</td>\n",
              "    </tr>\n",
              "    <tr>\n",
              "      <th>75%</th>\n",
              "      <td>9177.000000</td>\n",
              "      <td>9301.000000</td>\n",
              "      <td>8870.000000</td>\n",
              "      <td>8984.000000</td>\n",
              "      <td>11.000000</td>\n",
              "    </tr>\n",
              "    <tr>\n",
              "      <th>max</th>\n",
              "      <td>10967.000000</td>\n",
              "      <td>11245.000000</td>\n",
              "      <td>10753.000000</td>\n",
              "      <td>11149.000000</td>\n",
              "      <td>11.000000</td>\n",
              "    </tr>\n",
              "  </tbody>\n",
              "</table>\n",
              "</div>"
            ],
            "text/plain": [
              "               open          high           low         close      month\n",
              "count     61.000000     61.000000     61.000000     61.000000  61.000000\n",
              "mean    7589.180328   7828.377049   7283.524590   7552.000000   9.918033\n",
              "std     2023.709848   1990.369121   2054.789508   2022.261144   0.881194\n",
              "min     3615.000000   3670.000000   3347.000000   3615.000000   8.000000\n",
              "25%     5898.000000   6176.000000   5640.000000   5870.000000   9.000000\n",
              "50%     7570.000000   7777.000000   7205.000000   7562.000000  10.000000\n",
              "75%     9177.000000   9301.000000   8870.000000   8984.000000  11.000000\n",
              "max    10967.000000  11245.000000  10753.000000  11149.000000  11.000000"
            ]
          },
          "metadata": {
            "tags": []
          },
          "execution_count": 32
        }
      ]
    },
    {
      "cell_type": "code",
      "metadata": {
        "id": "IZtqXn1JSeTE",
        "colab_type": "code",
        "outputId": "bba5ffe4-5284-442e-dabd-c164ca6e3abf",
        "colab": {
          "base_uri": "https://localhost:8080/",
          "height": 303
        }
      },
      "source": [
        "df4.plot.bar()"
      ],
      "execution_count": 0,
      "outputs": [
        {
          "output_type": "execute_result",
          "data": {
            "text/plain": [
              "<matplotlib.axes._subplots.AxesSubplot at 0x7f7255d0c5c0>"
            ]
          },
          "metadata": {
            "tags": []
          },
          "execution_count": 41
        },
        {
          "output_type": "display_data",
          "data": {
            "image/png": "[encoded data removed]",
            "text/plain": [
              "<Figure size 432x288 with 1 Axes>"
            ]
          },
          "metadata": {
            "tags": []
          }
        }
      ]
    },
    {
      "cell_type": "code",
      "metadata": {
        "id": "sFxffwa8ULxs",
        "colab_type": "code",
        "colab": {}
      },
      "source": [
        ""
      ],
      "execution_count": 0,
      "outputs": []
    }
  ]
}